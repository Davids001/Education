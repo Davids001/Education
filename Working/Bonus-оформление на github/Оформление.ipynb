{
 "cells": [
  {
   "cell_type": "markdown",
   "metadata": {},
   "source": [
    "<strong> Markdown </strong> — простой язык разметки"
   ]
  },
  {
   "cell_type": "markdown",
   "metadata": {},
   "source": [
    "# *заголовок курсивным шрифтом*"
   ]
  },
  {
   "cell_type": "markdown",
   "metadata": {},
   "source": [
    "**Текст полужирным шрифтом** "
   ]
  },
  {
   "cell_type": "markdown",
   "metadata": {},
   "source": [
    "$ 10+ a_{i} - a_{i-2} $"
   ]
  },
  {
   "cell_type": "markdown",
   "metadata": {},
   "source": [
    "один символ — для наклонного текста (_italic_, *italic*);\n",
    "два символа — для жирного текста (__strong__, **strong**);\n",
    "три — для наклонного и жирного одновременно (***жирный и наклонный***)."
   ]
  },
  {
   "cell_type": "markdown",
   "metadata": {},
   "source": [
    "# <center> Заголовок h1 </center>"
   ]
  },
  {
   "cell_type": "markdown",
   "metadata": {},
   "source": [
    "## Заголовок h2\n",
    "\n",
    "---\n",
    "\n",
    "## Заголовок h2"
   ]
  },
  {
   "cell_type": "markdown",
   "metadata": {},
   "source": [
    "---"
   ]
  },
  {
   "cell_type": "markdown",
   "metadata": {},
   "source": [
    "+ элемент 1\n",
    "\n",
    "- элемент 2\n",
    "\n",
    "* элемент ..."
   ]
  },
  {
   "cell_type": "markdown",
   "metadata": {},
   "source": [
    "* элемент\n",
    "\n",
    "  * вложенный элемент 2.1\n",
    "\n",
    "  * вложенный элемент 2.2"
   ]
  },
  {
   "cell_type": "markdown",
   "metadata": {},
   "source": [
    "без подсказки — [текст ссылки](http://example.com/link);\n",
    "c подсказкой — [текст ссылки](http://example.com/link \"Подсказка\")."
   ]
  },
  {
   "cell_type": "markdown",
   "metadata": {},
   "source": [
    "![](https://i.imgur.com/3uj9teq.png)"
   ]
  },
  {
   "cell_type": "markdown",
   "metadata": {},
   "source": [
    "<img src=https://i.imgur.com/3uj9teq.png width=500px height=30%>"
   ]
  },
  {
   "cell_type": "markdown",
   "metadata": {},
   "source": [
    "`print('Hello world!')`"
   ]
  },
  {
   "cell_type": "markdown",
   "metadata": {},
   "source": [
    "```python\n",
    "\n",
    "lst = [10, 34, 21, 21, 3]\n",
    "\n",
    "summa = sum(lst)\n",
    "\n",
    "```"
   ]
  },
  {
   "cell_type": "markdown",
   "metadata": {},
   "source": [
    "> Цитируемый текст"
   ]
  },
  {
   "cell_type": "markdown",
   "metadata": {},
   "source": [
    "Пусть задано выражение:\n",
    "\n",
    "$$a = b +c,$$\n",
    "\n",
    "где $a=0$"
   ]
  },
  {
   "cell_type": "markdown",
   "metadata": {},
   "source": [
    "Незнание очень часто **убивает**."
   ]
  },
  {
   "cell_type": "markdown",
   "metadata": {},
   "source": [
    "*Ум* заостряется от *книг*, словно *меч*."
   ]
  },
  {
   "cell_type": "markdown",
   "metadata": {},
   "source": [
    "Красота — <вещь> субъективная."
   ]
  }
 ],
 "metadata": {
  "kernelspec": {
   "display_name": "Python 3",
   "language": "python",
   "name": "python3"
  },
  "language_info": {
   "name": "python",
   "version": "3.10.12"
  }
 },
 "nbformat": 4,
 "nbformat_minor": 2
}
