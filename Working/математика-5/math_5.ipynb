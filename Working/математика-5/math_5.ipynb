{
 "cells": [
  {
   "cell_type": "code",
   "execution_count": 1,
   "metadata": {},
   "outputs": [],
   "source": [
    "import numpy as np"
   ]
  },
  {
   "cell_type": "code",
   "execution_count": 2,
   "metadata": {},
   "outputs": [],
   "source": [
    "from sympy import init_printing, solve, symbols"
   ]
  },
  {
   "cell_type": "code",
   "execution_count": 3,
   "metadata": {},
   "outputs": [],
   "source": [
    "Gesse1=np.array([[-12,-6],[-6,-12]])\n",
    "Gesse2=np.array([[-6,-12],[-12,-6]])\n",
    "Gesse3=np.array([[6,12],[12,6]])\n",
    "Gesse4=np.array([[12,6],[6,12]])"
   ]
  },
  {
   "cell_type": "code",
   "execution_count": null,
   "metadata": {},
   "outputs": [],
   "source": [
    "values,_=np.linalg.eig(Gesse4)\n",
    "print(values)"
   ]
  },
  {
   "cell_type": "markdown",
   "metadata": {},
   "source": [
    "Найдите Экстреммумы функции"
   ]
  },
  {
   "cell_type": "code",
   "execution_count": 5,
   "metadata": {},
   "outputs": [],
   "source": [
    "from sympy import *"
   ]
  },
  {
   "cell_type": "code",
   "execution_count": null,
   "metadata": {},
   "outputs": [],
   "source": [
    "z=4*x**2-6*x*y-34*x+5*y**2+42*y+7\n",
    "\n",
    "zx=diff(z,x)\n",
    "display(zx)\n",
    "zy=diff(z,y)\n",
    "display(zy)\n",
    "\n",
    "Eq1=Eq(zx,0)\n",
    "display(Eq1)\n",
    "\n",
    "Eq2=Eq(zy,0)\n",
    "display(Eq2)\n",
    "\n",
    "sol=solve([Eq1,Eq2],[x,y])\n",
    "display(sol)\n"
   ]
  },
  {
   "cell_type": "code",
   "execution_count": null,
   "metadata": {},
   "outputs": [],
   "source": [
    "f=x**3-2*x*y-y**6\n",
    "fx=diff(f,x)\n",
    "display(fx)\n",
    "fy=diff(f,y)\n",
    "display(fy)\n",
    "\n",
    "fxx=diff(fx,x)\n",
    "fxy=diff(fx,y)\n",
    "fyx=diff(fy,x)\n",
    "fyy=diff(fy,y)\n",
    "display(fxx,fxy,fyx,fyy)\n"
   ]
  },
  {
   "cell_type": "code",
   "execution_count": null,
   "metadata": {},
   "outputs": [],
   "source": [
    "np.linalg.det(np.array([[6,-2],[-2,-16*30]])).round()"
   ]
  },
  {
   "cell_type": "code",
   "execution_count": null,
   "metadata": {},
   "outputs": [],
   "source": [
    "x,y,w=symbols('x,y,w')\n",
    "f=4*x+3*y\n",
    "g=x**2+y**2\n",
    "c=1\n",
    "L=f+w*(g-c)\n",
    "Lx=diff(L,x)\n",
    "Ly=diff(L,y)\n",
    "Lw=diff(L,w)\n",
    "display(Lx,Ly,Lw)\n",
    "\n",
    "sol=solve([Lx,Ly,Lw],[x,y,w])\n",
    "sol"
   ]
  },
  {
   "cell_type": "code",
   "execution_count": null,
   "metadata": {},
   "outputs": [],
   "source": [
    "4*(4/5)+3*(3/5)"
   ]
  },
  {
   "cell_type": "markdown",
   "metadata": {},
   "source": [
    "Длина забора — 20 метров. Какова максимальная площадь прямоугольного участка, который можно огородить?"
   ]
  },
  {
   "cell_type": "code",
   "execution_count": null,
   "metadata": {},
   "outputs": [],
   "source": [
    "a,b,w=symbols('a,b,w',reals=True)\n",
    "f=a*b\n",
    "g=a+b\n",
    "c=10\n",
    "L=f+w*(g-c)\n",
    "display(L)\n",
    "\n",
    "La=diff(L,a)\n",
    "Lb=diff(L,b)\n",
    "Lw=diff(L,w)\n",
    "display(La,Lb,Lw)\n",
    "\n",
    "sol=solve([La,Lb,Lw],[a,b,w])\n",
    "display(sol)"
   ]
  },
  {
   "cell_type": "markdown",
   "metadata": {},
   "source": [
    "Вы управляете фабрикой, производящей изделия, в качестве сырья для которых требуется сталь. Ваши затраты — это преимущественно человеческий труд, который вы оплачиваете из расчёта 20 долларов в час для каждого рабочего, и сама сталь, которая стоит 170 долларов за тонну. Предположим, что функция , прогнозирующая ваш доход, приблизительно моделируется следующим уравнением:\n",
    "\n",
    "R(h,s)=200*(h)^(2/3)*(S)^(1/3)\n",
    "\n",
    "В данном уравнении за h обозначается число человеко-часов, а за s — тонны стали.\n",
    "\n",
    "Необходимо найти максимально возможный доход, если на затраты мы можем взять из бюджета только 20 000 долларов."
   ]
  },
  {
   "cell_type": "code",
   "execution_count": null,
   "metadata": {},
   "outputs": [],
   "source": [
    "h,s,w=symbols('h,s,w',reals=True)\n",
    "\n",
    "g=20*h+170*s\n",
    "c=20000\n",
    "f=200*h**(2/3)*(s)**(1/3)\n",
    "\n",
    "L=f+w*(g-c)\n",
    "display(L)\n",
    "\n",
    "Lh=diff(L,h)\n",
    "Ls=diff(L,s)\n",
    "Lw=diff(L,w)\n",
    "display(Lh,Ls,Lw)\n",
    "\n",
    "sol=solve([Lh,Ls,Lw],[h,s,w])\n",
    "display(sol)\n",
    "\n",
    "h,s,w=sol[0]\n",
    "\n",
    "display(200*h.round()**(2/3)*(s.round())**(1/3))\n",
    "\n"
   ]
  },
  {
   "cell_type": "code",
   "execution_count": null,
   "metadata": {},
   "outputs": [],
   "source": [
    "a,b,w=symbols('a,b,w',real=True)\n",
    "\n",
    "g=a+b\n",
    "c=200\n",
    "\n",
    "f=3*a**2+a+4*b+5*b**2\n",
    "\n",
    "L=f+w*(g-c)\n",
    "display(L)\n",
    "\n",
    "La=diff(L,a)\n",
    "Lb=diff(L,b)\n",
    "Lw=diff(L,w)\n",
    "\n",
    "sol=solve([La,Lb,Lw],[a,b,w])\n",
    "\n",
    "a=round(sol[a])\n",
    "b=round(sol[b])\n",
    "w=(sol[w])\n",
    "\n",
    "\n",
    "f=3*a**2+a+4*b+5*b**2\n",
    "f\n"
   ]
  },
  {
   "cell_type": "markdown",
   "metadata": {},
   "source": [
    "Представьте, что вы решаете задачу классификации методом опорных векторов и хотите оценить расстояние от объекта до разделяющей прямой с помощью метода Лагранжа. Если объект имеет координаты (2,1) , а прямая задана уравнением x+y=1, то каким будет квадрат расстояния от этого объекта до прямой?"
   ]
  },
  {
   "cell_type": "code",
   "execution_count": null,
   "metadata": {},
   "outputs": [],
   "source": [
    "x,y,w=symbols('x,y,w',reals=True)\n",
    "\n",
    "f=(x-2)**2 +(y-1)**2\n",
    "display(f)\n",
    "\n",
    "g=x+y\n",
    "c=1\n",
    "\n",
    "L=f+w*(g-c)\n",
    "display(L)\n",
    "\n",
    "Lx=diff(L,x)\n",
    "Ly=diff(L,y)\n",
    "Lw=diff(L,w)\n",
    "display(Lx,Ly,Lw)\n",
    "\n",
    "sol=solve([Lx,Ly,Lw],[x,y,w])\n",
    "x=sol[x]\n",
    "y=sol[y]\n",
    "\n",
    "display((x-2)**2 +(y-1)**2)\n"
   ]
  },
  {
   "cell_type": "markdown",
   "metadata": {},
   "source": [
    "Прямоугольный параллелепипед имеет объём 1м3 Чему равна минимальная площадь его поверхности?"
   ]
  },
  {
   "cell_type": "code",
   "execution_count": null,
   "metadata": {},
   "outputs": [],
   "source": [
    "a,b,c,w=symbols('a,b,c,w',reals=True)\n",
    "\n",
    "g=a*b*c\n",
    "k=1\n",
    "f=2*a*b+2*b*c+2*a*c\n",
    "\n",
    "L=f+w*(g-k)\n",
    "display(L)\n",
    "\n",
    "La=diff(L,a)\n",
    "Lb=diff(L,b)\n",
    "Lc=diff(L,c)\n",
    "Lw=diff(L,w)\n",
    "display(La,Lb,Lc,Lw)\n",
    "\n",
    "sol=solve([La,Lb,Lc,Lw],[a,b,c,w])\n",
    "a,b,c,w=sol[0]\n",
    "\n",
    "display(2*a*b+2*b*c+2*a*c)\n"
   ]
  },
  {
   "cell_type": "markdown",
   "metadata": {},
   "source": [
    "Длина забора — 20 метров. Какова максимальная площадь прямоугольного участка, который можно огородить? Хотя бы одна из сторон прямоугольника должна быть не меньше 6."
   ]
  },
  {
   "cell_type": "code",
   "execution_count": null,
   "metadata": {},
   "outputs": [],
   "source": [
    "a,b,w1,w2,x=symbols('a,b,w1,w2,x')\n",
    "\n",
    "g1=2*a+2*b\n",
    "c1=20\n",
    "g2=a-x**2\n",
    "c2=6\n",
    "\n",
    "f=a*b\n",
    "\n",
    "L=f+w1*(g1-c1)+w2*(g2-c2)\n",
    "display(L)\n",
    "\n",
    "La=diff(L,a)\n",
    "Lb=diff(L,b)\n",
    "Lw1=diff(L,w1)\n",
    "Lw2=diff(L,w2)\n",
    "Lx=diff(L,x)\n",
    "\n",
    "display(La,Lb,Lw1,Lw2,Lx)\n",
    "\n",
    "sol=solve([La,Lb,Lw1,Lw2,Lx],[a,b,w1,w2,x])\n",
    "sol"
   ]
  },
  {
   "cell_type": "code",
   "execution_count": null,
   "metadata": {},
   "outputs": [],
   "source": [
    "np.gradient([1,2,3,-10,-20,-6,0,10.20,10])"
   ]
  },
  {
   "cell_type": "code",
   "execution_count": null,
   "metadata": {},
   "outputs": [],
   "source": [
    "a,b=symbols('a,b')\n",
    "f=(5-a-2*b)**2\n",
    "fa=diff(f,a)\n",
    "fb=diff(f,b)\n",
    "\n",
    "display(fa,fb)\n",
    "\n",
    "sol=solve([fa,fb],[a,b])\n",
    "sol"
   ]
  },
  {
   "cell_type": "code",
   "execution_count": null,
   "metadata": {},
   "outputs": [],
   "source": [
    "w0,w1=symbols('w0,w1')\n",
    "\n",
    "f=(2.1-w0-w1)**2 + (2.9-w0-3*w1)**2 + (4.1-w0-5*w1)**2\n",
    "\n",
    "fw0=diff(f,w0)\n",
    "fw1=diff(f,w1)\n",
    "\n",
    "solve([fw0,fw1],[w0,w1])"
   ]
  },
  {
   "cell_type": "code",
   "execution_count": null,
   "metadata": {},
   "outputs": [],
   "source": [
    "f = np.array([8, 2, 8, 3, 5, 6, 5, 15])\n",
    "np.gradient(f,7)"
   ]
  },
  {
   "cell_type": "code",
   "execution_count": null,
   "metadata": {},
   "outputs": [],
   "source": [
    "x,y,z=symbols('x,y,z')\n",
    "f=2*x**2-4*x*z+4*y**2-8*y*z+9*z**2+4*x+8*y-20*z\n",
    "display(f)\n",
    "n0=np.array([0,0,0])\n",
    "fx=diff(f,x)\n",
    "fy=diff(f,y)\n",
    "fz=diff(f,z)\n",
    "display(fx,fy,fz)\n",
    "\n",
    "n1=n0 - 0.25*(np.array([4,8,-20]))\n",
    "n1\n"
   ]
  },
  {
   "cell_type": "code",
   "execution_count": null,
   "metadata": {},
   "outputs": [],
   "source": [
    "x,y,z=symbols('x,y,z')\n",
    "f=x**3-2*x**2+y**2+z**2-2*x*y+x*z-y*z+3*z\n",
    "fx=diff(f,x)\n",
    "fy=diff(f,y)\n",
    "fz=diff(f,z)\n",
    "display(fx,fy,fz)\n"
   ]
  },
  {
   "cell_type": "code",
   "execution_count": null,
   "metadata": {},
   "outputs": [],
   "source": [
    "def f(x, y,z):\n",
    "    return x**3-2*x**2+y**2+z**2-2*x*y+x*z-y*z+3*z\n",
    "def grad(x, y,z):\n",
    "    dx = 3*x**2-4*x-2*y+z\n",
    "    dy = -2*x+2*y-z\n",
    "    dz = x-y+2*z+3 \n",
    "    return (dx, dy,dz)\n",
    "x0 = (2,2,2)\n",
    "gamma = 0.1\n",
    "x_cur = x0\n",
    "\n",
    "vals = []\n",
    "coords = []\n",
    "i = 0\n",
    "while True:\n",
    "    x_new = (x_cur[0] - gamma * grad(*x_cur)[0],\n",
    "            x_cur[1] - gamma * grad(*x_cur)[1],\n",
    "            x_cur[2] - gamma * grad(*x_cur)[2])\n",
    "    if i > 50000:\n",
    "        break\n",
    "    x_cur = x_new\n",
    "    vals.append(f(*x_cur))\n",
    "    coords.append(x_cur)\n",
    "    i += 1\n",
    "    print(f\"iter={i}; x=({x_cur[0]:.4f}, {x_cur[1]:.4f}, {x_cur[2]:.4f});\"\n",
    "          f\" f(x)={f(*x_cur):.4f}; grad f(x)=({grad(*x_cur)[0]:.4f}, {grad(*x_cur)[1]:.4f},{grad(*x_cur)[2]:.4f})\")\n",
    "\n",
    "\n",
    " "
   ]
  },
  {
   "cell_type": "code",
   "execution_count": null,
   "metadata": {},
   "outputs": [],
   "source": [
    "x,y,w=symbols('x,y,w')\n",
    "\n",
    "f=x**2+2*y**2\n",
    "\n",
    "g=x+y\n",
    "c=20\n",
    "\n",
    "L=f+w*(g-c)\n",
    "display(L)\n",
    "\n",
    "Lx=diff(L,x)\n",
    "Ly=diff(L,y)\n",
    "Lw=diff(L,w)\n",
    "\n",
    "sol=solve([Lx,Ly,Lw],[x,y,w])\n",
    "\n",
    "(sol[x].round())**2 +2*(sol[y].round())**2"
   ]
  },
  {
   "cell_type": "code",
   "execution_count": null,
   "metadata": {},
   "outputs": [],
   "source": [
    "x=symbols('x')\n",
    "f=6*x**5-5*x**4-4*x**3+3*x**2\n",
    "Fx=diff(f,x)\n",
    "\n",
    "Fx"
   ]
  },
  {
   "cell_type": "code",
   "execution_count": null,
   "metadata": {},
   "outputs": [],
   "source": [
    "def func0(x):\n",
    "    return x**3-3*x**2-45*x+40\n",
    "def func1(x):\n",
    "    return 3*x**2 - 6*x -45\n",
    "def func2(x):\n",
    "    return 6*x - 6\n",
    "\n",
    "\n",
    "x0 = -4\n",
    "x_cur = x0\n",
    "accur=0.0001\n",
    "vals = []\n",
    "coords = []\n",
    "i = 0\n",
    "while abs(func1(x_cur))>accur:\n",
    "    x_new = (x_cur - (func1(x_cur)/func2(x_cur)))\n",
    "\n",
    "    x_cur = x_new\n",
    "    i+=1\n",
    "    print(f\"iter={i}; x=({x_cur:.3f});\"\n",
    "          f\" f(x)={func1(x_cur):.4f};\")"
   ]
  },
  {
   "cell_type": "code",
   "execution_count": null,
   "metadata": {},
   "outputs": [],
   "source": [
    "x0 = 42\n",
    "iter = 0\n",
    "x_curr = x0\n",
    "epsilon = 0.0001\n",
    "f = func1(x_curr)\n",
    "\n",
    "while (abs(f) > epsilon):\n",
    "    f = func1(x_curr)\n",
    "    f_prime = func2(x_curr)\n",
    "    x_curr = x_curr - (f)/(f_prime)\n",
    "    iter += 1\n",
    "    print(x_curr)"
   ]
  },
  {
   "cell_type": "code",
   "execution_count": null,
   "metadata": {},
   "outputs": [],
   "source": [
    "from scipy import optimize\n",
    "optimize.minimize(lambda x:func(x), x0=0.7)"
   ]
  },
  {
   "cell_type": "code",
   "execution_count": null,
   "metadata": {},
   "outputs": [],
   "source": [
    "def func1(x):\n",
    "    return x**3-72*x-220\n",
    "def func2(x):\n",
    "    return 3*x**2-72 \n",
    "x0 = 12\n",
    "iter = 0\n",
    "x_curr = x0\n",
    "epsilon = 0.0001\n",
    "f = func1(x_curr)\n",
    "\n",
    "while (abs(f) > epsilon):\n",
    "    f = func1(x_curr)\n",
    "    f_prime = func2(x_curr)\n",
    "    x_curr = x_curr - (f)/(f_prime)\n",
    "    iter += 1\n",
    "    print(np.round(x_curr,3))"
   ]
  },
  {
   "cell_type": "markdown",
   "metadata": {},
   "source": [
    "Фабрика игрушек производит игрушки-антистресс и игрушки-вертушки.\n",
    "\n",
    "Для изготовления игрушки-антистресс необходимо потратить 2 доллара  и 3 часа, для изготовления игрушки-вертушки — 4 доллара и 2 часа.\n",
    "\n",
    "На этой неделе в бюджете у фабрики есть 220 долларов, и оплачено 150 трудочасов для производства указанных игрушек.\n",
    "\n",
    "Если одну игрушку-антистресс можно продать за 6 долларов, а игрушку-вертушку — за 7, то сколько экземпляров каждого товара необходимо произвести на этой неделе, чтобы максимизировать прибыль?"
   ]
  },
  {
   "cell_type": "code",
   "execution_count": null,
   "metadata": {},
   "outputs": [],
   "source": [
    "x,y,w1,w2,f1,f2=symbols('x,y,w1,w2,f1,f2')\n",
    "\n",
    "\n",
    "\n",
    "fmax=4*x+3*y\n",
    "\n",
    "g1=2*x+4*y+f1\n",
    "c1=220\n",
    "g2=3*x+2*y+f2\n",
    "c2=150\n",
    "\n",
    "L=fmax+w1*(g1-c1)+w2*(g2-c2)\n",
    "\n",
    "Lx=diff(L,x)\n",
    "Ly=diff(L,y)\n",
    "Lw1=diff(L,w1)\n",
    "Lw2=diff(L,w2)\n",
    "Lf1=diff(L,f1)\n",
    "Lf2=diff(L,f2)\n",
    "\n",
    "sol=solve([Lx,Ly,Lw1,Lw2,Lf1,Lf2],[x,y,w1,w2,f1,f2])\n",
    "sol\n"
   ]
  },
  {
   "cell_type": "code",
   "execution_count": null,
   "metadata": {},
   "outputs": [],
   "source": [
    "f1=0.1*x+0.15*y-0.65\n",
    "f2=0.75*x+0.7*y-4\n",
    "\n",
    "sol=solve([Eq(f1,0),Eq(f2,0)],[x,y])\n",
    "\n",
    "\n",
    "0.4*sol[x]+0.45*sol[y]\n"
   ]
  },
  {
   "cell_type": "markdown",
   "metadata": {},
   "source": [
    "Пример № 1. SciPy (scipy.optimize.linprog)\n",
    "\n",
    "У нас есть 6 товаров с заданными ценами на них и заданной массой.\n",
    "\n",
    "Вместимость сумки, в которую мы можем положить товары, заранее известна и равна 15 кг.\n",
    "\n",
    "Какой товар и в каком объёме необходимо взять, чтобы сумма всех цен товаров была максимальной?"
   ]
  },
  {
   "cell_type": "code",
   "execution_count": 7,
   "metadata": {},
   "outputs": [],
   "source": [
    "values = [4, 2, 1, 7, 3, 6] #стоимости товаров\n",
    "weights = [5, 9, 8, 2, 6, 5] #вес товаров\n",
    "\n",
    "C = 15 #вместимость сумки\n",
    "n = 6 #количество товаров"
   ]
  },
  {
   "cell_type": "code",
   "execution_count": 1,
   "metadata": {},
   "outputs": [],
   "source": [
    "from sympy import *\n",
    "x=symbols('x')"
   ]
  },
  {
   "cell_type": "code",
   "execution_count": null,
   "metadata": {},
   "outputs": [],
   "source": [
    "f=-x**4+6*x**3-4*x**2+80\n",
    "dif=f.diff(x)\n",
    "\n",
    "x=solve(Eq(dif,0),x)[2]\n",
    "-x**4+6*x**3-4*x**2+80\n"
   ]
  },
  {
   "cell_type": "code",
   "execution_count": 38,
   "metadata": {},
   "outputs": [],
   "source": [
    "x,y,a=symbols('x,y,a')"
   ]
  },
  {
   "cell_type": "code",
   "execution_count": null,
   "metadata": {},
   "outputs": [],
   "source": [
    "f=x**2+2*y**2\n",
    "g=x+y\n",
    "c=20\n",
    "\n",
    "L=f+a*(g-c)\n",
    "Lx=L.diff(x)\n",
    "Ly=L.diff(y)\n",
    "La=L.diff(a)\n",
    "\n",
    "sol=solve([Lx,Ly,La],[x,y,a])\n",
    "print(sol[x].round(),sol[y].round())\n",
    "x=sol[x].round()\n",
    "y=sol[y].round()\n",
    "\n",
    "x**2+2*y**2\n"
   ]
  },
  {
   "cell_type": "markdown",
   "metadata": {},
   "source": [
    "Решить задачу с помощью метода Ньютона. Оптимизировать функцию."
   ]
  },
  {
   "cell_type": "code",
   "execution_count": null,
   "metadata": {},
   "outputs": [],
   "source": [
    "def func(x):\n",
    "    return 3*x**2-6*x-45\n",
    "def diffunc(x):\n",
    "    return 6*x-6\n",
    "\n",
    "x0=42\n",
    "acc=0.0001\n",
    "x=x0\n",
    "while abs(func(x))>acc:\n",
    "    x_new=x-(func(x)/diffunc(x))\n",
    "    x=x_new\n",
    "    print(x)"
   ]
  },
  {
   "cell_type": "code",
   "execution_count": null,
   "metadata": {},
   "outputs": [],
   "source": [
    "def func(x):\n",
    "    return x**3-72*x-220\n",
    "def diffunc(x):\n",
    "    return 3*x**2-72\n",
    "x=40\n",
    "acc=0.0001\n",
    "\n",
    "while abs(func(x))>acc:\n",
    "    print(abs(func(x)))\n",
    "    x_new=x-(func(x)/diffunc(x))\n",
    "    x=x_new\n",
    "    print(x)\n"
   ]
  },
  {
   "cell_type": "code",
   "execution_count": null,
   "metadata": {},
   "outputs": [],
   "source": [
    "def func1(x):\n",
    "    return x**2+9*x-5\n",
    "def func2(x):\n",
    "    return 2*x+9\n",
    "\n",
    "from scipy.optimize import newton\n",
    "newton(func=func1,fprime=func2,x0=2.2).round(2)"
   ]
  },
  {
   "cell_type": "code",
   "execution_count": null,
   "metadata": {},
   "outputs": [],
   "source": [
    "from scipy import optimize\n",
    "optimize.minimize(lambda x:func1(x), x0=2.2)"
   ]
  },
  {
   "cell_type": "code",
   "execution_count": null,
   "metadata": {},
   "outputs": [],
   "source": [
    "def func1(x):\n",
    "    return 24*x**2-4*x\n",
    "def func2(x):\n",
    "    return 48*x-4\n",
    "\n",
    "from scipy.optimize import newton\n",
    "newton(func=func1,x0=42,fprime=func2,tol=0.0001).round(3)"
   ]
  },
  {
   "cell_type": "code",
   "execution_count": null,
   "metadata": {},
   "outputs": [],
   "source": [
    "def func1(x):\n",
    "    return 8*x**3-2*x**2-450\n",
    "\n",
    "optimize.minimize(func1, x0=42)"
   ]
  },
  {
   "cell_type": "code",
   "execution_count": 73,
   "metadata": {},
   "outputs": [],
   "source": [
    "import numpy as np\n",
    "from scipy.optimize import minimize\n",
    "\n",
    "def func(x):\n",
    "    return x[0]**2.0 + x[1]**2.0\n",
    "\n",
    "def grad_func(x):\n",
    "    return np.array([x[0] * 2, x[1] * 2])\n",
    "\n",
    "x_0 = [1.0, 1.0]\n",
    "\n",
    "result = minimize(func, x_0, method='BFGS', jac=grad_func)"
   ]
  },
  {
   "cell_type": "code",
   "execution_count": null,
   "metadata": {},
   "outputs": [],
   "source": [
    "print('Статус оптимизации %s' % result['message'])\n",
    "print('Количество оценок: %d' % result['nfev'])\n",
    "solution = result['x']\n",
    "evaluation = func(solution)\n",
    "print('Решение: f(%s) = %.5f' % (solution, evaluation))"
   ]
  },
  {
   "cell_type": "code",
   "execution_count": null,
   "metadata": {},
   "outputs": [],
   "source": [
    "def func1(x):\n",
    "    return x[0]**2-x[0]*x[1]+x[1]**2+9*x[0]-6*x[1]+20\n",
    "\n",
    "\n",
    "\n",
    "def func_2(x):\n",
    "    return np.array([2*x[0]-x[1]+9,-x[0]+2*x[1]-6])\n",
    "x0=[-400,-400]\n",
    "optimize.minimize(x0=x0,fun=func1,jac=func_2,method='Newton-CG')"
   ]
  },
  {
   "cell_type": "code",
   "execution_count": null,
   "metadata": {},
   "outputs": [],
   "source": [
    "def func1(x):\n",
    "    return x**2-3*x+45\n",
    "def func2(x):\n",
    "    return 2*x-3\n",
    "x0=10\n",
    "\n",
    "optimize.minimize(fun=func1,x0=x0,jac=func2,method='Newton-CG')"
   ]
  },
  {
   "cell_type": "code",
   "execution_count": null,
   "metadata": {},
   "outputs": [],
   "source": [
    "f1=2*x+4*y-220\n",
    "f2=3*x+2*y-150\n",
    "Eq(f1,0)\n",
    "\n",
    "solve([Eq(f1,0),Eq(f2,0)],[x,y])"
   ]
  },
  {
   "cell_type": "code",
   "execution_count": 9,
   "metadata": {},
   "outputs": [],
   "source": [
    "values = [4, 2, 1, 7, 3, 6] #стоимости товаров\n",
    "weights = [5, 9, 8, 2, 6, 5] #вес товаров\n",
    "C = 15 #вместимость сумки\n",
    "n = 6 #количество товаров"
   ]
  },
  {
   "cell_type": "code",
   "execution_count": 10,
   "metadata": {},
   "outputs": [],
   "source": [
    "# задача сводится к минимизации, т.к. идет поиск максимума.\n",
    "c=-np.array(values)\n",
    "\n",
    "\n",
    "b=np.array(C)"
   ]
  },
  {
   "cell_type": "code",
   "execution_count": 12,
   "metadata": {},
   "outputs": [],
   "source": [
    "A=np.matrix(weights)"
   ]
  },
  {
   "cell_type": "code",
   "execution_count": null,
   "metadata": {},
   "outputs": [],
   "source": [
    "from scipy.optimize import linprog\n",
    "linprog(c=c, A_ub=A, b_ub=b)"
   ]
  },
  {
   "cell_type": "code",
   "execution_count": 14,
   "metadata": {},
   "outputs": [],
   "source": [
    "import cvxpy"
   ]
  },
  {
   "cell_type": "code",
   "execution_count": null,
   "metadata": {},
   "outputs": [],
   "source": [
    "x = cvxpy.Variable(shape=n, integer=True)\n",
    "constraint = cvxpy.sum(cvxpy.multiply(A, x)) <= C\n",
    "x_positive = x >= 0\n",
    "total_value = cvxpy.sum(cvxpy.multiply(x, c))\n",
    "\n",
    "problem = cvxpy.Problem(\n",
    "    cvxpy.Minimize(total_value), constraints=[constraint, x_positive]\n",
    ")\n",
    "\n",
    "problem.solve()\n",
    "x.value"
   ]
  },
  {
   "cell_type": "code",
   "execution_count": null,
   "metadata": {},
   "outputs": [],
   "source": [
    "x = cvxpy.Variable(shape=n, boolean=True)\n",
    "constraint = cvxpy.sum(cvxpy.multiply(A, x)) <= C\n",
    "x_positive = x >= 0\n",
    "total_value = cvxpy.sum(cvxpy.multiply(x, c))\n",
    "\n",
    "problem = cvxpy.Problem(\n",
    "    cvxpy.Minimize(total_value), constraints=[constraint, x_positive]\n",
    ")\n",
    "\n",
    "problem.solve()\n",
    "x.value"
   ]
  },
  {
   "cell_type": "code",
   "execution_count": 50,
   "metadata": {},
   "outputs": [
    {
     "name": "stdout",
     "output_type": "stream",
     "text": [
      "Welcome to the CBC MILP Solver \n",
      "Version: 2.10.3 \n",
      "Build Date: Dec 15 2019 \n",
      "\n",
      "command line - /home/roman/.local/lib/python3.12/site-packages/pulp/solverdir/cbc/linux/64/cbc /tmp/ff279eb9bf1743aca77348a97944a71e-pulp.mps -max -timeMode elapsed -branch -printingOptions all -solution /tmp/ff279eb9bf1743aca77348a97944a71e-pulp.sol (default strategy 1)\n",
      "At line 2 NAME          MODEL\n",
      "At line 3 ROWS\n",
      "At line 8 COLUMNS\n",
      "At line 21 RHS\n",
      "At line 25 BOUNDS\n",
      "At line 28 ENDATA\n",
      "Problem MODEL has 3 rows, 2 columns and 6 elements\n",
      "Coin0008I MODEL read with 0 errors\n",
      "Option for timeMode changed from cpu to elapsed\n",
      "Continuous objective value is 216667 - 0.00 seconds\n",
      "Cgl0004I processed model has 3 rows, 2 columns (2 integer (0 of which binary)) and 6 elements\n",
      "Cutoff increment increased from 1e-05 to 5000\n",
      "Cbc0012I Integer solution of -195000 found by DiveCoefficient after 0 iterations and 0 nodes (0.00 seconds)\n",
      "Cbc0012I Integer solution of -200000 found by DiveCoefficient after 1 iterations and 0 nodes (0.00 seconds)\n",
      "Cbc0013I At root node, 0 cuts changed objective from -216666.67 to -200000 in 2 passes\n",
      "Cbc0014I Cut generator 0 (Probing) - 0 row cuts average 0.0 elements, 2 column cuts (2 active)  in 0.000 seconds - new frequency is 1\n",
      "Cbc0014I Cut generator 1 (Gomory) - 0 row cuts average 0.0 elements, 0 column cuts (0 active)  in 0.000 seconds - new frequency is -100\n",
      "Cbc0014I Cut generator 2 (Knapsack) - 0 row cuts average 0.0 elements, 0 column cuts (0 active)  in 0.000 seconds - new frequency is -100\n",
      "Cbc0014I Cut generator 3 (Clique) - 0 row cuts average 0.0 elements, 0 column cuts (0 active)  in 0.000 seconds - new frequency is -100\n",
      "Cbc0014I Cut generator 4 (MixedIntegerRounding2) - 0 row cuts average 0.0 elements, 0 column cuts (0 active)  in 0.000 seconds - new frequency is -100\n",
      "Cbc0014I Cut generator 5 (FlowCover) - 0 row cuts average 0.0 elements, 0 column cuts (0 active)  in 0.000 seconds - new frequency is -100\n",
      "Cbc0001I Search completed - best objective -200000, took 1 iterations and 0 nodes (0.00 seconds)\n",
      "Cbc0035I Maximum depth 0, 0 variables fixed on reduced cost\n",
      "Cuts at root node changed objective from -216667 to -200000\n",
      "Probing was tried 2 times and created 2 cuts of which 0 were active after adding rounds of cuts (0.000 seconds)\n",
      "Gomory was tried 2 times and created 0 cuts of which 0 were active after adding rounds of cuts (0.000 seconds)\n",
      "Knapsack was tried 2 times and created 0 cuts of which 0 were active after adding rounds of cuts (0.000 seconds)\n",
      "Clique was tried 2 times and created 0 cuts of which 0 were active after adding rounds of cuts (0.000 seconds)\n",
      "MixedIntegerRounding2 was tried 2 times and created 0 cuts of which 0 were active after adding rounds of cuts (0.000 seconds)\n",
      "FlowCover was tried 2 times and created 0 cuts of which 0 were active after adding rounds of cuts (0.000 seconds)\n",
      "TwoMirCuts was tried 1 times and created 0 cuts of which 0 were active after adding rounds of cuts (0.000 seconds)\n",
      "ZeroHalf was tried 1 times and created 0 cuts of which 0 were active after adding rounds of cuts (0.000 seconds)\n",
      "\n",
      "Result - Optimal solution found\n",
      "\n",
      "Objective value:                200000.00000000\n",
      "Enumerated nodes:               0\n",
      "Total iterations:               1\n",
      "Time (CPU seconds):             0.00\n",
      "Time (Wallclock seconds):       0.00\n",
      "\n",
      "Option for printingOptions changed from normal to all\n",
      "Total time (CPU seconds):       0.00   (Wallclock seconds):       0.00\n",
      "\n",
      "Количество автомобилей модели А:  1.0\n",
      "Количество автомобилей модели В:  4.0\n",
      "Суммарный доход:  200000.0\n"
     ]
    }
   ],
   "source": [
    "from pulp import *\n",
    "problem = LpProblem('Производство машин', LpMaximize)\n",
    "A = LpVariable('Автомобиль A', lowBound=0 , cat=LpInteger)\n",
    "B = LpVariable('Автомобиль B', lowBound=0 , cat=LpInteger)\n",
    "#Целевая функция\n",
    "problem += 20000*A + 45000*B \n",
    "#Ограничения\n",
    "problem += 4*A + 5*B <= 30 \n",
    "problem += 3*A + 6*B <=30\n",
    "problem += 2*A + 7*B <=30\n",
    "problem.solve()\n",
    "print(\"Количество автомобилей модели А: \", A.varValue)\n",
    "print(\"Количество автомобилей модели В: \", B.varValue)\n",
    "print(\"Суммарный доход: \", value(problem.objective))\n",
    "#Количество автомобилей модели А:  1.0\n",
    "#Количество автомобилей модели В:  4.0\n",
    "#Суммарный доход:  200000.0"
   ]
  },
  {
   "cell_type": "code",
   "execution_count": 54,
   "metadata": {},
   "outputs": [
    {
     "data": {
      "text/plain": [
       "1"
      ]
     },
     "execution_count": 54,
     "metadata": {},
     "output_type": "execute_result"
    },
    {
     "name": "stdout",
     "output_type": "stream",
     "text": [
      "Welcome to the CBC MILP Solver \n",
      "Version: 2.10.3 \n",
      "Build Date: Dec 15 2019 \n",
      "\n",
      "command line - /home/roman/.local/lib/python3.12/site-packages/pulp/solverdir/cbc/linux/64/cbc /tmp/718d280310d7457f841d157c6af69e35-pulp.mps -timeMode elapsed -branch -printingOptions all -solution /tmp/718d280310d7457f841d157c6af69e35-pulp.sol (default strategy 1)\n",
      "At line 2 NAME          MODEL\n",
      "At line 3 ROWS\n",
      "At line 10 COLUMNS\n",
      "At line 41 RHS\n",
      "At line 47 BOUNDS\n",
      "At line 54 ENDATA\n",
      "Problem MODEL has 5 rows, 6 columns and 12 elements\n",
      "Coin0008I MODEL read with 0 errors\n",
      "Option for timeMode changed from cpu to elapsed\n",
      "Continuous objective value is 1900 - 0.00 seconds\n",
      "Cgl0004I processed model has 3 rows, 4 columns (4 integer (0 of which binary)) and 8 elements\n",
      "Cutoff increment increased from 1e-05 to 0.9999\n",
      "Cbc0012I Integer solution of 1900 found by DiveCoefficient after 0 iterations and 0 nodes (0.00 seconds)\n",
      "Cbc0001I Search completed - best objective 1900, took 0 iterations and 0 nodes (0.00 seconds)\n",
      "Cbc0035I Maximum depth 0, 0 variables fixed on reduced cost\n",
      "Cuts at root node changed objective from 1900 to 1900\n",
      "Probing was tried 0 times and created 0 cuts of which 0 were active after adding rounds of cuts (0.000 seconds)\n",
      "Gomory was tried 0 times and created 0 cuts of which 0 were active after adding rounds of cuts (0.000 seconds)\n",
      "Knapsack was tried 0 times and created 0 cuts of which 0 were active after adding rounds of cuts (0.000 seconds)\n",
      "Clique was tried 0 times and created 0 cuts of which 0 were active after adding rounds of cuts (0.000 seconds)\n",
      "MixedIntegerRounding2 was tried 0 times and created 0 cuts of which 0 were active after adding rounds of cuts (0.000 seconds)\n",
      "FlowCover was tried 0 times and created 0 cuts of which 0 were active after adding rounds of cuts (0.000 seconds)\n",
      "TwoMirCuts was tried 0 times and created 0 cuts of which 0 were active after adding rounds of cuts (0.000 seconds)\n",
      "ZeroHalf was tried 0 times and created 0 cuts of which 0 were active after adding rounds of cuts (0.000 seconds)\n",
      "\n",
      "Result - Optimal solution found\n",
      "\n",
      "Objective value:                1900.00000000\n",
      "Enumerated nodes:               0\n",
      "Total iterations:               0\n",
      "Time (CPU seconds):             0.00\n",
      "Time (Wallclock seconds):       0.00\n",
      "\n",
      "Option for printingOptions changed from normal to all\n",
      "Total time (CPU seconds):       0.00   (Wallclock seconds):       0.01\n",
      "\n"
     ]
    }
   ],
   "source": [
    "from pulp import *\n",
    "problem = LpProblem('Перевозка со складов', LpMinimize)\n",
    "A1 = LpVariable('перевоз на тц1 со склада 1', lowBound=0 , cat=LpInteger)\n",
    "B1 = LpVariable('перевоз на тц1 со склада 2', lowBound=0 , cat=LpInteger)\n",
    "A2 = LpVariable('перевоз на тц2 со склада 1', lowBound=0 , cat=LpInteger)\n",
    "B2 = LpVariable('перевоз на тц2 со склада 2', lowBound=0 , cat=LpInteger)\n",
    "A3 = LpVariable('перевоз на тц3 со склада 1', lowBound=0 , cat=LpInteger)\n",
    "B3 = LpVariable('перевоз на тц3 со склада 2', lowBound=0 , cat=LpInteger)\n",
    "#Целевая функция\n",
    "problem += 2*A1+5*A2+3*A3+7*B1+7*B2+6*B3 \n",
    "#Ограничения\n",
    "problem += A1+B1 == 110\n",
    "\n",
    "problem += A2+B2 ==150\n",
    "\n",
    "problem += A3+B3 ==140\n",
    "\n",
    "problem += A1+A2+A3 <=180\n",
    "problem += B1+B2+B3 <=220\n",
    "problem.solve()\n"
   ]
  },
  {
   "cell_type": "code",
   "execution_count": 55,
   "metadata": {},
   "outputs": [
    {
     "name": "stdout",
     "output_type": "stream",
     "text": [
      "Количество перевозов на тц1 со склада 1:  110.0\n",
      "Количество перевозов на тц1 со склада 2:  0.0\n",
      "количество перевозов на тц2 со склада 1:  0.0\n",
      "Количество перевозов на тц2 со склада 2:  150.0\n",
      "Количество перевозов на тц3 со склада 1:  70.0\n",
      "Количество перевозов на тц3 со склада 2:  70.0\n",
      "Суммарный расход:  1900.0\n"
     ]
    }
   ],
   "source": [
    "print(\"Количество перевозов на тц1 со склада 1: \", A1.varValue)\n",
    "print(\"Количество перевозов на тц1 со склада 2: \", B1.varValue)\n",
    "print(\"количество перевозов на тц2 со склада 1: \", A2.varValue)\n",
    "print(\"Количество перевозов на тц2 со склада 2: \", B2.varValue)\n",
    "print(\"Количество перевозов на тц3 со склада 1: \", A3.varValue)\n",
    "print(\"Количество перевозов на тц3 со склада 2: \", B3.varValue)\n",
    "print(\"Суммарный расход: \", value(problem.objective))"
   ]
  }
 ],
 "metadata": {
  "kernelspec": {
   "display_name": "Python 3",
   "language": "python",
   "name": "python3"
  },
  "language_info": {
   "codemirror_mode": {
    "name": "ipython",
    "version": 3
   },
   "file_extension": ".py",
   "mimetype": "text/x-python",
   "name": "python",
   "nbconvert_exporter": "python",
   "pygments_lexer": "ipython3",
   "version": "3.12.3"
  }
 },
 "nbformat": 4,
 "nbformat_minor": 2
}
