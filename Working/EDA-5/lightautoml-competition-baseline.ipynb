{
 "cells": [
  {
   "cell_type": "code",
   "execution_count": 4,
   "id": "d1ca67ee",
   "metadata": {
    "_kg_hide-input": true,
    "_kg_hide-output": true,
    "execution": {
     "iopub.execute_input": "2023-07-27T12:28:45.710432Z",
     "iopub.status.busy": "2023-07-27T12:28:45.709102Z",
     "iopub.status.idle": "2023-07-27T12:28:45.730266Z",
     "shell.execute_reply": "2023-07-27T12:28:45.729486Z"
    },
    "papermill": {
     "duration": 0.05494,
     "end_time": "2023-07-27T12:28:45.730468",
     "exception": false,
     "start_time": "2023-07-27T12:28:45.675528",
     "status": "completed"
    },
    "tags": []
   },
   "outputs": [
    {
     "name": "stderr",
     "output_type": "stream",
     "text": [
      "/tmp/ipykernel_10945/1016028258.py:1: DeprecationWarning: Importing display from IPython.core.display is deprecated since IPython 7.14, please import from IPython display\n",
      "  from IPython.core.display import display, HTML, Javascript\n"
     ]
    },
    {
     "data": {
      "text/html": [
       "<style> \n",
       "\n",
       "div #notebook {\n",
       "background-color: white;\n",
       "line-height: 20px;\n",
       "}\n",
       "\n",
       "#notebook-container {\n",
       "width: 95%;\n",
       "margin-top: 2em;\n",
       "padding-top: 2em;\n",
       "border-top: 4px solid #16a085; /* light orange */\n",
       "-webkit-box-shadow: 0px 0px 8px 2px rgba(224, 212, 226, 0.5); /* pink */\n",
       "    box-shadow: 0px 0px 8px 2px rgba(224, 212, 226, 0.5); /* pink */\n",
       "}\n",
       "\n",
       "div .input {\n",
       "margin-bottom: 1em;\n",
       "}\n",
       "\n",
       ".rendered_html h1, .rendered_html h2, .rendered_html h3, .rendered_html h4, .rendered_html h5, .rendered_html h6 {\n",
       "color: #16a085; /* light orange */\n",
       "font-weight: 600;\n",
       "}\n",
       "\n",
       "div.input_area {\n",
       "border: none;\n",
       "    background-color: rgba(22, 160, 133, 0.1); /* rgba(229, 143, 101, 0.1); light orange [exactly #E58F65] */\n",
       "    border-top: 2px solid #16a085; /* light orange */\n",
       "}\n",
       "\n",
       "div.input_prompt {\n",
       "color: #16a085; /* light blue */\n",
       "}\n",
       "\n",
       "div.output_prompt {\n",
       "color: #0b5345; /* strong orange */\n",
       "}\n",
       "\n",
       "div.cell.selected:before, div.cell.selected.jupyter-soft-selected:before {\n",
       "background: #16a085; /* light orange */\n",
       "}\n",
       "\n",
       "div.cell.selected, div.cell.selected.jupyter-soft-selected {\n",
       "    border-color: #16a085; /* light orange */\n",
       "}\n",
       "\n",
       ".edit_mode div.cell.selected:before {\n",
       "background: #16a085; /* light orange */\n",
       "}\n",
       "\n",
       ".edit_mode div.cell.selected {\n",
       "border-color: #16a085; /* light orange */\n",
       "\n",
       "}\n",
       "</style>"
      ],
      "text/plain": [
       "<IPython.core.display.HTML object>"
      ]
     },
     "execution_count": 4,
     "metadata": {},
     "output_type": "execute_result"
    }
   ],
   "source": [
    "from IPython.core.display import display, HTML, Javascript\n",
    "\n",
    "# ----- Notebook Theme -----\n",
    "color_map = ['#16a085', '#e8f6f3', '#d0ece7', '#a2d9ce', '#73c6b6', '#45b39d', \n",
    "                        '#16a085', '#138d75', '#117a65', '#0e6655', '#0b5345']\n",
    "\n",
    "prompt = color_map[-1]\n",
    "main_color = color_map[0]\n",
    "strong_main_color = color_map[1]\n",
    "custom_colors = [strong_main_color, main_color]\n",
    "\n",
    "css_file = ''' \n",
    "\n",
    "div #notebook {\n",
    "background-color: white;\n",
    "line-height: 20px;\n",
    "}\n",
    "\n",
    "#notebook-container {\n",
    "%s\n",
    "margin-top: 2em;\n",
    "padding-top: 2em;\n",
    "border-top: 4px solid %s; /* light orange */\n",
    "-webkit-box-shadow: 0px 0px 8px 2px rgba(224, 212, 226, 0.5); /* pink */\n",
    "    box-shadow: 0px 0px 8px 2px rgba(224, 212, 226, 0.5); /* pink */\n",
    "}\n",
    "\n",
    "div .input {\n",
    "margin-bottom: 1em;\n",
    "}\n",
    "\n",
    ".rendered_html h1, .rendered_html h2, .rendered_html h3, .rendered_html h4, .rendered_html h5, .rendered_html h6 {\n",
    "color: %s; /* light orange */\n",
    "font-weight: 600;\n",
    "}\n",
    "\n",
    "div.input_area {\n",
    "border: none;\n",
    "    background-color: %s; /* rgba(229, 143, 101, 0.1); light orange [exactly #E58F65] */\n",
    "    border-top: 2px solid %s; /* light orange */\n",
    "}\n",
    "\n",
    "div.input_prompt {\n",
    "color: %s; /* light blue */\n",
    "}\n",
    "\n",
    "div.output_prompt {\n",
    "color: %s; /* strong orange */\n",
    "}\n",
    "\n",
    "div.cell.selected:before, div.cell.selected.jupyter-soft-selected:before {\n",
    "background: %s; /* light orange */\n",
    "}\n",
    "\n",
    "div.cell.selected, div.cell.selected.jupyter-soft-selected {\n",
    "    border-color: %s; /* light orange */\n",
    "}\n",
    "\n",
    ".edit_mode div.cell.selected:before {\n",
    "background: %s; /* light orange */\n",
    "}\n",
    "\n",
    ".edit_mode div.cell.selected {\n",
    "border-color: %s; /* light orange */\n",
    "\n",
    "}\n",
    "'''\n",
    "def to_rgb(h): \n",
    "    return tuple(int(h[i:i+2], 16) for i in [0, 2, 4])\n",
    "\n",
    "main_color_rgba = 'rgba(%s, %s, %s, 0.1)' % (to_rgb(main_color[1:]))\n",
    "open('notebook.css', 'w').write(css_file % ('width: 95%;', main_color, main_color, main_color_rgba, main_color,  main_color, prompt, main_color, main_color, main_color, main_color))\n",
    "\n",
    "def nb(): \n",
    "    return HTML(\"<style>\" + open(\"notebook.css\", \"r\").read() + \"</style>\")\n",
    "nb()"
   ]
  },
  {
   "cell_type": "markdown",
   "id": "0c3e1a87",
   "metadata": {
    "papermill": {
     "duration": 0.02747,
     "end_time": "2023-07-27T12:28:45.788697",
     "exception": false,
     "start_time": "2023-07-27T12:28:45.761227",
     "status": "completed"
    },
    "tags": []
   },
   "source": [
    "<img src=\"https://github.com/AILab-MLTools/LightAutoML/raw/master/imgs/LightAutoML_logo_big.png\" alt=\"LightAutoML logo\" style=\"width:70%;\"/>"
   ]
  },
  {
   "cell_type": "markdown",
   "id": "7afaa8c2",
   "metadata": {
    "papermill": {
     "duration": 0.027506,
     "end_time": "2023-07-27T12:28:45.844267",
     "exception": false,
     "start_time": "2023-07-27T12:28:45.816761",
     "status": "completed"
    },
    "tags": []
   },
   "source": [
    "# LightAutoML baseline\n",
    "\n",
    "Official LightAutoML github repository is [here](https://github.com/AILab-MLTools/LightAutoML). \n",
    "\n",
    "### Do not forget to put upvote for the notebook, follow me on Kaggle and the ⭐️ for github repo if you like it - one click for you, great pleasure for us ☺️ \n",
    "### If you miss the [simple baseline notebook](https://www.kaggle.com/code/alexryzhkov/clone-my-notebook) for this competition, please take a look and upvote it as well. "
   ]
  },
  {
   "cell_type": "code",
   "execution_count": 5,
   "id": "70b7bd3e",
   "metadata": {
    "_kg_hide-input": true,
    "execution": {
     "iopub.execute_input": "2023-07-27T12:28:45.906901Z",
     "iopub.status.busy": "2023-07-27T12:28:45.906135Z",
     "iopub.status.idle": "2023-07-27T12:28:45.914584Z",
     "shell.execute_reply": "2023-07-27T12:28:45.914041Z"
    },
    "papermill": {
     "duration": 0.041759,
     "end_time": "2023-07-27T12:28:45.914748",
     "exception": false,
     "start_time": "2023-07-27T12:28:45.872989",
     "status": "completed"
    },
    "tags": []
   },
   "outputs": [
    {
     "name": "stderr",
     "output_type": "stream",
     "text": [
      "/home/roman/.local/lib/python3.10/site-packages/IPython/core/display.py:431: UserWarning: Consider using IPython.display.IFrame instead\n",
      "  warnings.warn(\"Consider using IPython.display.IFrame instead\")\n"
     ]
    },
    {
     "data": {
      "text/html": [
       "<iframe src=\"https://ghbtns.com/github-btn.html?user=sb-ai-lab&repo=LightAutoML&type=star&count=true&size=large\" frameborder=\"0\" scrolling=\"0\" width=\"170\" height=\"30\" title=\"LightAutoML GitHub\"></iframe>"
      ],
      "text/plain": [
       "<IPython.core.display.HTML object>"
      ]
     },
     "execution_count": 5,
     "metadata": {},
     "output_type": "execute_result"
    }
   ],
   "source": [
    "s = '<iframe src=\"https://ghbtns.com/github-btn.html?user=sb-ai-lab&repo=LightAutoML&type=star&count=true&size=large\" frameborder=\"0\" scrolling=\"0\" width=\"170\" height=\"30\" title=\"LightAutoML GitHub\"></iframe>'\n",
    "HTML(s)"
   ]
  },
  {
   "cell_type": "markdown",
   "id": "bdcce4b4",
   "metadata": {
    "papermill": {
     "duration": 0.029576,
     "end_time": "2023-07-27T12:28:45.973154",
     "exception": false,
     "start_time": "2023-07-27T12:28:45.943578",
     "status": "completed"
    },
    "tags": []
   },
   "source": [
    "## This notebook is the updated copy of our [Tutorial_1 from the GIT repository](https://github.com/AILab-MLTools/LightAutoML/blob/master/examples/tutorials/Tutorial_1_basics.ipynb). Please check our [tutorials folder](https://github.com/AILab-MLTools/LightAutoML/blob/master/examples/tutorials) if you are interested in other examples of LightAutoML functionality."
   ]
  },
  {
   "cell_type": "markdown",
   "id": "9a0eef6c",
   "metadata": {
    "papermill": {
     "duration": 0.031338,
     "end_time": "2023-07-27T12:28:46.037499",
     "exception": false,
     "start_time": "2023-07-27T12:28:46.006161",
     "status": "completed"
    },
    "tags": []
   },
   "source": [
    "## 0. Prerequisites"
   ]
  },
  {
   "cell_type": "markdown",
   "id": "c5e62758",
   "metadata": {
    "papermill": {
     "duration": 0.031968,
     "end_time": "2023-07-27T12:28:46.099077",
     "exception": false,
     "start_time": "2023-07-27T12:28:46.067109",
     "status": "completed"
    },
    "tags": []
   },
   "source": [
    "### 0.0. install LightAutoML"
   ]
  },
  {
   "cell_type": "code",
   "execution_count": 8,
   "id": "9befc0af",
   "metadata": {
    "_kg_hide-output": true,
    "execution": {
     "iopub.execute_input": "2023-07-27T12:28:46.165676Z",
     "iopub.status.busy": "2023-07-27T12:28:46.164883Z",
     "iopub.status.idle": "2023-07-27T12:29:06.425196Z",
     "shell.execute_reply": "2023-07-27T12:29:06.424386Z"
    },
    "papermill": {
     "duration": 20.297073,
     "end_time": "2023-07-27T12:29:06.425365",
     "exception": false,
     "start_time": "2023-07-27T12:28:46.128292",
     "status": "completed"
    },
    "tags": []
   },
   "outputs": [],
   "source": [
    "%%capture\n",
    "!pip install -U lightautoml==0.3.8b1"
   ]
  },
  {
   "cell_type": "markdown",
   "id": "a0ff7ef1",
   "metadata": {
    "papermill": {
     "duration": 0.028808,
     "end_time": "2023-07-27T12:29:06.484998",
     "exception": false,
     "start_time": "2023-07-27T12:29:06.456190",
     "status": "completed"
    },
    "tags": []
   },
   "source": [
    "### 0.1. Import libraries\n",
    "\n",
    "Here we will import the libraries we use in this kernel:\n",
    "- Standard python libraries for timing, working with OS etc.\n",
    "- Essential python DS libraries like numpy, pandas, scikit-learn and torch (the last we will use in the next cell)\n",
    "- LightAutoML modules: `TabularAutoML` preset for AutoML model creation and Task class to setup what kind of ML problem we solve (binary/multiclass classification or regression)"
   ]
  },
  {
   "cell_type": "code",
   "execution_count": 9,
   "id": "5dd23ed1",
   "metadata": {
    "execution": {
     "iopub.execute_input": "2023-07-27T12:29:06.551994Z",
     "iopub.status.busy": "2023-07-27T12:29:06.550936Z",
     "iopub.status.idle": "2023-07-27T12:29:19.856317Z",
     "shell.execute_reply": "2023-07-27T12:29:19.856943Z"
    },
    "papermill": {
     "duration": 13.343643,
     "end_time": "2023-07-27T12:29:19.857150",
     "exception": false,
     "start_time": "2023-07-27T12:29:06.513507",
     "status": "completed"
    },
    "tags": []
   },
   "outputs": [
    {
     "name": "stdout",
     "output_type": "stream",
     "text": [
      "'nlp' extra dependecy package 'gensim' isn't installed. Look at README.md in repo 'LightAutoML' for installation instructions.\n",
      "'nlp' extra dependecy package 'nltk' isn't installed. Look at README.md in repo 'LightAutoML' for installation instructions.\n",
      "'nlp' extra dependecy package 'transformers' isn't installed. Look at README.md in repo 'LightAutoML' for installation instructions.\n",
      "'nlp' extra dependecy package 'gensim' isn't installed. Look at README.md in repo 'LightAutoML' for installation instructions.\n",
      "'nlp' extra dependecy package 'nltk' isn't installed. Look at README.md in repo 'LightAutoML' for installation instructions.\n",
      "'nlp' extra dependecy package 'transformers' isn't installed. Look at README.md in repo 'LightAutoML' for installation instructions.\n"
     ]
    },
    {
     "name": "stderr",
     "output_type": "stream",
     "text": [
      "/home/roman/.local/lib/python3.10/site-packages/lightautoml/ml_algo/dl_model.py:41: UserWarning: 'transformers' - package isn't installed\n",
      "  warnings.warn(\"'transformers' - package isn't installed\")\n",
      "/home/roman/.local/lib/python3.10/site-packages/lightautoml/text/nn_model.py:22: UserWarning: 'transformers' - package isn't installed\n",
      "  warnings.warn(\"'transformers' - package isn't installed\")\n",
      "/home/roman/.local/lib/python3.10/site-packages/lightautoml/text/dl_transformers.py:25: UserWarning: 'transformers' - package isn't installed\n",
      "  warnings.warn(\"'transformers' - package isn't installed\")\n"
     ]
    }
   ],
   "source": [
    "# Standard python libraries\n",
    "import os\n",
    "import time\n",
    "\n",
    "# Essential DS libraries\n",
    "import numpy as np\n",
    "import pandas as pd\n",
    "from sklearn.metrics import mean_absolute_error\n",
    "from sklearn.model_selection import train_test_split\n",
    "import torch\n",
    "\n",
    "# LightAutoML presets, task and report generation\n",
    "from lightautoml.automl.presets.tabular_presets import TabularAutoML\n",
    "from lightautoml.tasks import Task"
   ]
  },
  {
   "cell_type": "markdown",
   "id": "d8f6180e",
   "metadata": {
    "papermill": {
     "duration": 0.030619,
     "end_time": "2023-07-27T12:29:19.918024",
     "exception": false,
     "start_time": "2023-07-27T12:29:19.887405",
     "status": "completed"
    },
    "tags": []
   },
   "source": [
    "### 0.2. Constants\n",
    "\n",
    "Here we setup the constants to use in the kernel:\n",
    "- `N_THREADS` - number of vCPUs for LightAutoML model creation\n",
    "- `N_FOLDS` - number of folds in LightAutoML inner CV\n",
    "- `RANDOM_STATE` - random seed for better reproducibility\n",
    "- `TEST_SIZE` - houldout data part size \n",
    "- `TIMEOUT` - limit in seconds for model to train\n",
    "- `TARGET_NAME` - target column name in dataset"
   ]
  },
  {
   "cell_type": "code",
   "execution_count": 10,
   "id": "1ca4cc34",
   "metadata": {
    "execution": {
     "iopub.execute_input": "2023-07-27T12:29:19.983419Z",
     "iopub.status.busy": "2023-07-27T12:29:19.982687Z",
     "iopub.status.idle": "2023-07-27T12:29:19.989591Z",
     "shell.execute_reply": "2023-07-27T12:29:19.988984Z"
    },
    "papermill": {
     "duration": 0.041333,
     "end_time": "2023-07-27T12:29:19.989791",
     "exception": false,
     "start_time": "2023-07-27T12:29:19.948458",
     "status": "completed"
    },
    "tags": []
   },
   "outputs": [],
   "source": [
    "N_THREADS = 4\n",
    "N_FOLDS = 5\n",
    "RANDOM_STATE = 42\n",
    "TEST_SIZE = 0.2\n",
    "TIMEOUT = 900 # equal to 15 minutes\n",
    "TARGET_NAME = 'final_price'"
   ]
  },
  {
   "cell_type": "markdown",
   "id": "c9def249",
   "metadata": {
    "papermill": {
     "duration": 0.031095,
     "end_time": "2023-07-27T12:29:20.050528",
     "exception": false,
     "start_time": "2023-07-27T12:29:20.019433",
     "status": "completed"
    },
    "tags": []
   },
   "source": [
    "### 0.3. Imported models setup\n",
    "\n",
    "For better reproducibility fix numpy random seed with max number of threads for Torch (which usually try to use all the threads on server):"
   ]
  },
  {
   "cell_type": "code",
   "execution_count": 11,
   "id": "c069bc5a",
   "metadata": {
    "execution": {
     "iopub.execute_input": "2023-07-27T12:29:20.140896Z",
     "iopub.status.busy": "2023-07-27T12:29:20.140050Z",
     "iopub.status.idle": "2023-07-27T12:29:20.143209Z",
     "shell.execute_reply": "2023-07-27T12:29:20.144151Z"
    },
    "papermill": {
     "duration": 0.064154,
     "end_time": "2023-07-27T12:29:20.144388",
     "exception": false,
     "start_time": "2023-07-27T12:29:20.080234",
     "status": "completed"
    },
    "tags": []
   },
   "outputs": [],
   "source": [
    "np.random.seed(RANDOM_STATE)\n",
    "torch.set_num_threads(N_THREADS)"
   ]
  },
  {
   "cell_type": "markdown",
   "id": "265a89e1",
   "metadata": {
    "papermill": {
     "duration": 0.030864,
     "end_time": "2023-07-27T12:29:20.205997",
     "exception": false,
     "start_time": "2023-07-27T12:29:20.175133",
     "status": "completed"
    },
    "tags": []
   },
   "source": [
    "### 0.4. Data loading\n",
    "Let's check the data we have:"
   ]
  },
  {
   "cell_type": "code",
   "execution_count": 12,
   "id": "c1f46162",
   "metadata": {
    "execution": {
     "iopub.execute_input": "2023-07-27T12:29:20.272871Z",
     "iopub.status.busy": "2023-07-27T12:29:20.272092Z",
     "iopub.status.idle": "2023-07-27T12:29:20.275171Z",
     "shell.execute_reply": "2023-07-27T12:29:20.274566Z"
    },
    "papermill": {
     "duration": 0.038399,
     "end_time": "2023-07-27T12:29:20.275332",
     "exception": false,
     "start_time": "2023-07-27T12:29:20.236933",
     "status": "completed"
    },
    "tags": []
   },
   "outputs": [],
   "source": [
    "INPUT_DIR = '../input/sf-dst-predict-car-price/'"
   ]
  },
  {
   "cell_type": "code",
   "execution_count": 13,
   "id": "01f454e6",
   "metadata": {
    "execution": {
     "iopub.execute_input": "2023-07-27T12:29:20.342045Z",
     "iopub.status.busy": "2023-07-27T12:29:20.341298Z",
     "iopub.status.idle": "2023-07-27T12:29:20.509174Z",
     "shell.execute_reply": "2023-07-27T12:29:20.508456Z"
    },
    "papermill": {
     "duration": 0.20377,
     "end_time": "2023-07-27T12:29:20.509356",
     "exception": false,
     "start_time": "2023-07-27T12:29:20.305586",
     "status": "completed"
    },
    "scrolled": true,
    "tags": []
   },
   "outputs": [
    {
     "ename": "FileNotFoundError",
     "evalue": "[Errno 2] No such file or directory: '../input/sf-dst-predict-car-price/train_data.csv'",
     "output_type": "error",
     "traceback": [
      "\u001b[0;31m---------------------------------------------------------------------------\u001b[0m",
      "\u001b[0;31mFileNotFoundError\u001b[0m                         Traceback (most recent call last)",
      "Cell \u001b[0;32mIn[13], line 1\u001b[0m\n\u001b[0;32m----> 1\u001b[0m train_data \u001b[38;5;241m=\u001b[39m \u001b[43mpd\u001b[49m\u001b[38;5;241;43m.\u001b[39;49m\u001b[43mread_csv\u001b[49m\u001b[43m(\u001b[49m\u001b[43mINPUT_DIR\u001b[49m\u001b[43m \u001b[49m\u001b[38;5;241;43m+\u001b[39;49m\u001b[43m \u001b[49m\u001b[38;5;124;43m'\u001b[39;49m\u001b[38;5;124;43mtrain_data.csv\u001b[39;49m\u001b[38;5;124;43m'\u001b[39;49m\u001b[43m)\u001b[49m\n\u001b[1;32m      2\u001b[0m \u001b[38;5;28mprint\u001b[39m(train_data\u001b[38;5;241m.\u001b[39mshape)\n\u001b[1;32m      3\u001b[0m train_data\u001b[38;5;241m.\u001b[39mhead()\n",
      "File \u001b[0;32m~/.local/lib/python3.10/site-packages/pandas/io/parsers/readers.py:948\u001b[0m, in \u001b[0;36mread_csv\u001b[0;34m(filepath_or_buffer, sep, delimiter, header, names, index_col, usecols, dtype, engine, converters, true_values, false_values, skipinitialspace, skiprows, skipfooter, nrows, na_values, keep_default_na, na_filter, verbose, skip_blank_lines, parse_dates, infer_datetime_format, keep_date_col, date_parser, date_format, dayfirst, cache_dates, iterator, chunksize, compression, thousands, decimal, lineterminator, quotechar, quoting, doublequote, escapechar, comment, encoding, encoding_errors, dialect, on_bad_lines, delim_whitespace, low_memory, memory_map, float_precision, storage_options, dtype_backend)\u001b[0m\n\u001b[1;32m    945\u001b[0m default: \u001b[38;5;28mobject\u001b[39m \u001b[38;5;241m|\u001b[39m \u001b[38;5;28;01mNone\u001b[39;00m\n\u001b[1;32m    947\u001b[0m \u001b[38;5;28;01mfor\u001b[39;00m argname, default \u001b[38;5;129;01min\u001b[39;00m parser_defaults\u001b[38;5;241m.\u001b[39mitems():\n\u001b[0;32m--> 948\u001b[0m     value \u001b[38;5;241m=\u001b[39m kwds\u001b[38;5;241m.\u001b[39mget(argname, default)\n\u001b[1;32m    950\u001b[0m     \u001b[38;5;66;03m# see gh-12935\u001b[39;00m\n\u001b[1;32m    951\u001b[0m     \u001b[38;5;28;01mif\u001b[39;00m (\n\u001b[1;32m    952\u001b[0m         engine \u001b[38;5;241m==\u001b[39m \u001b[38;5;124m\"\u001b[39m\u001b[38;5;124mpyarrow\u001b[39m\u001b[38;5;124m\"\u001b[39m\n\u001b[1;32m    953\u001b[0m         \u001b[38;5;129;01mand\u001b[39;00m argname \u001b[38;5;129;01min\u001b[39;00m _pyarrow_unsupported\n\u001b[1;32m    954\u001b[0m         \u001b[38;5;129;01mand\u001b[39;00m value \u001b[38;5;241m!=\u001b[39m default\n\u001b[1;32m    955\u001b[0m         \u001b[38;5;129;01mand\u001b[39;00m value \u001b[38;5;241m!=\u001b[39m \u001b[38;5;28mgetattr\u001b[39m(value, \u001b[38;5;124m\"\u001b[39m\u001b[38;5;124mvalue\u001b[39m\u001b[38;5;124m\"\u001b[39m, default)\n\u001b[1;32m    956\u001b[0m     ):\n",
      "File \u001b[0;32m~/.local/lib/python3.10/site-packages/pandas/io/parsers/readers.py:611\u001b[0m, in \u001b[0;36m_read\u001b[0;34m(filepath_or_buffer, kwds)\u001b[0m\n\u001b[1;32m    580\u001b[0m     \u001b[38;5;28;01mwith\u001b[39;00m parser:\n\u001b[1;32m    581\u001b[0m         \u001b[38;5;28;01mreturn\u001b[39;00m parser\u001b[38;5;241m.\u001b[39mread(nrows)\n\u001b[1;32m    584\u001b[0m \u001b[38;5;129m@deprecate_nonkeyword_arguments\u001b[39m(\n\u001b[1;32m    585\u001b[0m     version\u001b[38;5;241m=\u001b[39m\u001b[38;5;28;01mNone\u001b[39;00m, allowed_args\u001b[38;5;241m=\u001b[39m[\u001b[38;5;124m\"\u001b[39m\u001b[38;5;124mfilepath_or_buffer\u001b[39m\u001b[38;5;124m\"\u001b[39m], stacklevel\u001b[38;5;241m=\u001b[39m\u001b[38;5;241m3\u001b[39m\n\u001b[1;32m    586\u001b[0m )\n\u001b[1;32m    587\u001b[0m \u001b[38;5;129m@Appender\u001b[39m(\n\u001b[1;32m    588\u001b[0m     _doc_read_csv_and_table\u001b[38;5;241m.\u001b[39mformat(\n\u001b[1;32m    589\u001b[0m         func_name\u001b[38;5;241m=\u001b[39m\u001b[38;5;124m\"\u001b[39m\u001b[38;5;124mread_csv\u001b[39m\u001b[38;5;124m\"\u001b[39m,\n\u001b[1;32m    590\u001b[0m         summary\u001b[38;5;241m=\u001b[39m\u001b[38;5;124m\"\u001b[39m\u001b[38;5;124mRead a comma-separated values (csv) file into DataFrame.\u001b[39m\u001b[38;5;124m\"\u001b[39m,\n\u001b[1;32m    591\u001b[0m         _default_sep\u001b[38;5;241m=\u001b[39m\u001b[38;5;124m\"\u001b[39m\u001b[38;5;124m'\u001b[39m\u001b[38;5;124m,\u001b[39m\u001b[38;5;124m'\u001b[39m\u001b[38;5;124m\"\u001b[39m,\n\u001b[1;32m    592\u001b[0m         storage_options\u001b[38;5;241m=\u001b[39m_shared_docs[\u001b[38;5;124m\"\u001b[39m\u001b[38;5;124mstorage_options\u001b[39m\u001b[38;5;124m\"\u001b[39m],\n\u001b[1;32m    593\u001b[0m         decompression_options\u001b[38;5;241m=\u001b[39m_shared_docs[\u001b[38;5;124m\"\u001b[39m\u001b[38;5;124mdecompression_options\u001b[39m\u001b[38;5;124m\"\u001b[39m],\n\u001b[1;32m    594\u001b[0m     )\n\u001b[1;32m    595\u001b[0m )\n\u001b[1;32m    596\u001b[0m \u001b[38;5;28;01mdef\u001b[39;00m \u001b[38;5;21mread_csv\u001b[39m(\n\u001b[1;32m    597\u001b[0m     filepath_or_buffer: FilePath \u001b[38;5;241m|\u001b[39m ReadCsvBuffer[\u001b[38;5;28mbytes\u001b[39m] \u001b[38;5;241m|\u001b[39m ReadCsvBuffer[\u001b[38;5;28mstr\u001b[39m],\n\u001b[1;32m    598\u001b[0m     sep\u001b[38;5;241m=\u001b[39mlib\u001b[38;5;241m.\u001b[39mno_default,\n\u001b[1;32m    599\u001b[0m     delimiter\u001b[38;5;241m=\u001b[39m\u001b[38;5;28;01mNone\u001b[39;00m,\n\u001b[1;32m    600\u001b[0m     \u001b[38;5;66;03m# Column and Index Locations and Names\u001b[39;00m\n\u001b[1;32m    601\u001b[0m     header\u001b[38;5;241m=\u001b[39m\u001b[38;5;124m\"\u001b[39m\u001b[38;5;124minfer\u001b[39m\u001b[38;5;124m\"\u001b[39m,\n\u001b[1;32m    602\u001b[0m     names\u001b[38;5;241m=\u001b[39mlib\u001b[38;5;241m.\u001b[39mno_default,\n\u001b[1;32m    603\u001b[0m     index_col\u001b[38;5;241m=\u001b[39m\u001b[38;5;28;01mNone\u001b[39;00m,\n\u001b[1;32m    604\u001b[0m     usecols\u001b[38;5;241m=\u001b[39m\u001b[38;5;28;01mNone\u001b[39;00m,\n\u001b[1;32m    605\u001b[0m     squeeze\u001b[38;5;241m=\u001b[39m\u001b[38;5;28;01mNone\u001b[39;00m,\n\u001b[1;32m    606\u001b[0m     prefix\u001b[38;5;241m=\u001b[39mlib\u001b[38;5;241m.\u001b[39mno_default,\n\u001b[1;32m    607\u001b[0m     mangle_dupe_cols\u001b[38;5;241m=\u001b[39m\u001b[38;5;28;01mTrue\u001b[39;00m,\n\u001b[1;32m    608\u001b[0m     \u001b[38;5;66;03m# General Parsing Configuration\u001b[39;00m\n\u001b[1;32m    609\u001b[0m     dtype: DtypeArg \u001b[38;5;241m|\u001b[39m \u001b[38;5;28;01mNone\u001b[39;00m \u001b[38;5;241m=\u001b[39m \u001b[38;5;28;01mNone\u001b[39;00m,\n\u001b[1;32m    610\u001b[0m     engine: CSVEngine \u001b[38;5;241m|\u001b[39m \u001b[38;5;28;01mNone\u001b[39;00m \u001b[38;5;241m=\u001b[39m \u001b[38;5;28;01mNone\u001b[39;00m,\n\u001b[0;32m--> 611\u001b[0m     converters\u001b[38;5;241m=\u001b[39m\u001b[38;5;28;01mNone\u001b[39;00m,\n\u001b[1;32m    612\u001b[0m     true_values\u001b[38;5;241m=\u001b[39m\u001b[38;5;28;01mNone\u001b[39;00m,\n\u001b[1;32m    613\u001b[0m     false_values\u001b[38;5;241m=\u001b[39m\u001b[38;5;28;01mNone\u001b[39;00m,\n\u001b[1;32m    614\u001b[0m     skipinitialspace\u001b[38;5;241m=\u001b[39m\u001b[38;5;28;01mFalse\u001b[39;00m,\n\u001b[1;32m    615\u001b[0m     skiprows\u001b[38;5;241m=\u001b[39m\u001b[38;5;28;01mNone\u001b[39;00m,\n\u001b[1;32m    616\u001b[0m     skipfooter\u001b[38;5;241m=\u001b[39m\u001b[38;5;241m0\u001b[39m,\n\u001b[1;32m    617\u001b[0m     nrows\u001b[38;5;241m=\u001b[39m\u001b[38;5;28;01mNone\u001b[39;00m,\n\u001b[1;32m    618\u001b[0m     \u001b[38;5;66;03m# NA and Missing Data Handling\u001b[39;00m\n\u001b[1;32m    619\u001b[0m     na_values\u001b[38;5;241m=\u001b[39m\u001b[38;5;28;01mNone\u001b[39;00m,\n\u001b[1;32m    620\u001b[0m     keep_default_na\u001b[38;5;241m=\u001b[39m\u001b[38;5;28;01mTrue\u001b[39;00m,\n\u001b[1;32m    621\u001b[0m     na_filter\u001b[38;5;241m=\u001b[39m\u001b[38;5;28;01mTrue\u001b[39;00m,\n\u001b[1;32m    622\u001b[0m     verbose\u001b[38;5;241m=\u001b[39m\u001b[38;5;28;01mFalse\u001b[39;00m,\n\u001b[1;32m    623\u001b[0m     skip_blank_lines\u001b[38;5;241m=\u001b[39m\u001b[38;5;28;01mTrue\u001b[39;00m,\n\u001b[1;32m    624\u001b[0m     \u001b[38;5;66;03m# Datetime Handling\u001b[39;00m\n\u001b[1;32m    625\u001b[0m     parse_dates\u001b[38;5;241m=\u001b[39m\u001b[38;5;28;01mNone\u001b[39;00m,\n\u001b[1;32m    626\u001b[0m     infer_datetime_format\u001b[38;5;241m=\u001b[39m\u001b[38;5;28;01mFalse\u001b[39;00m,\n\u001b[1;32m    627\u001b[0m     keep_date_col\u001b[38;5;241m=\u001b[39m\u001b[38;5;28;01mFalse\u001b[39;00m,\n\u001b[1;32m    628\u001b[0m     date_parser\u001b[38;5;241m=\u001b[39m\u001b[38;5;28;01mNone\u001b[39;00m,\n\u001b[1;32m    629\u001b[0m     dayfirst\u001b[38;5;241m=\u001b[39m\u001b[38;5;28;01mFalse\u001b[39;00m,\n\u001b[1;32m    630\u001b[0m     cache_dates\u001b[38;5;241m=\u001b[39m\u001b[38;5;28;01mTrue\u001b[39;00m,\n\u001b[1;32m    631\u001b[0m     \u001b[38;5;66;03m# Iteration\u001b[39;00m\n\u001b[1;32m    632\u001b[0m     iterator\u001b[38;5;241m=\u001b[39m\u001b[38;5;28;01mFalse\u001b[39;00m,\n\u001b[1;32m    633\u001b[0m     chunksize\u001b[38;5;241m=\u001b[39m\u001b[38;5;28;01mNone\u001b[39;00m,\n\u001b[1;32m    634\u001b[0m     \u001b[38;5;66;03m# Quoting, Compression, and File Format\u001b[39;00m\n\u001b[1;32m    635\u001b[0m     compression: CompressionOptions \u001b[38;5;241m=\u001b[39m \u001b[38;5;124m\"\u001b[39m\u001b[38;5;124minfer\u001b[39m\u001b[38;5;124m\"\u001b[39m,\n\u001b[1;32m    636\u001b[0m     thousands\u001b[38;5;241m=\u001b[39m\u001b[38;5;28;01mNone\u001b[39;00m,\n\u001b[1;32m    637\u001b[0m     decimal: \u001b[38;5;28mstr\u001b[39m \u001b[38;5;241m=\u001b[39m \u001b[38;5;124m\"\u001b[39m\u001b[38;5;124m.\u001b[39m\u001b[38;5;124m\"\u001b[39m,\n\u001b[1;32m    638\u001b[0m     lineterminator\u001b[38;5;241m=\u001b[39m\u001b[38;5;28;01mNone\u001b[39;00m,\n\u001b[1;32m    639\u001b[0m     quotechar\u001b[38;5;241m=\u001b[39m\u001b[38;5;124m'\u001b[39m\u001b[38;5;124m\"\u001b[39m\u001b[38;5;124m'\u001b[39m,\n\u001b[1;32m    640\u001b[0m     quoting\u001b[38;5;241m=\u001b[39mcsv\u001b[38;5;241m.\u001b[39mQUOTE_MINIMAL,\n\u001b[1;32m    641\u001b[0m     doublequote\u001b[38;5;241m=\u001b[39m\u001b[38;5;28;01mTrue\u001b[39;00m,\n\u001b[1;32m    642\u001b[0m     escapechar\u001b[38;5;241m=\u001b[39m\u001b[38;5;28;01mNone\u001b[39;00m,\n\u001b[1;32m    643\u001b[0m     comment\u001b[38;5;241m=\u001b[39m\u001b[38;5;28;01mNone\u001b[39;00m,\n\u001b[1;32m    644\u001b[0m     encoding\u001b[38;5;241m=\u001b[39m\u001b[38;5;28;01mNone\u001b[39;00m,\n\u001b[1;32m    645\u001b[0m     encoding_errors: \u001b[38;5;28mstr\u001b[39m \u001b[38;5;241m|\u001b[39m \u001b[38;5;28;01mNone\u001b[39;00m \u001b[38;5;241m=\u001b[39m \u001b[38;5;124m\"\u001b[39m\u001b[38;5;124mstrict\u001b[39m\u001b[38;5;124m\"\u001b[39m,\n\u001b[1;32m    646\u001b[0m     dialect\u001b[38;5;241m=\u001b[39m\u001b[38;5;28;01mNone\u001b[39;00m,\n\u001b[1;32m    647\u001b[0m     \u001b[38;5;66;03m# Error Handling\u001b[39;00m\n\u001b[1;32m    648\u001b[0m     error_bad_lines\u001b[38;5;241m=\u001b[39m\u001b[38;5;28;01mNone\u001b[39;00m,\n\u001b[1;32m    649\u001b[0m     warn_bad_lines\u001b[38;5;241m=\u001b[39m\u001b[38;5;28;01mNone\u001b[39;00m,\n\u001b[1;32m    650\u001b[0m     \u001b[38;5;66;03m# TODO(2.0): set on_bad_lines to \"error\".\u001b[39;00m\n\u001b[1;32m    651\u001b[0m     \u001b[38;5;66;03m# See _refine_defaults_read comment for why we do this.\u001b[39;00m\n\u001b[1;32m    652\u001b[0m     on_bad_lines\u001b[38;5;241m=\u001b[39m\u001b[38;5;28;01mNone\u001b[39;00m,\n\u001b[1;32m    653\u001b[0m     \u001b[38;5;66;03m# Internal\u001b[39;00m\n\u001b[1;32m    654\u001b[0m     delim_whitespace\u001b[38;5;241m=\u001b[39m\u001b[38;5;28;01mFalse\u001b[39;00m,\n\u001b[1;32m    655\u001b[0m     low_memory\u001b[38;5;241m=\u001b[39m_c_parser_defaults[\u001b[38;5;124m\"\u001b[39m\u001b[38;5;124mlow_memory\u001b[39m\u001b[38;5;124m\"\u001b[39m],\n\u001b[1;32m    656\u001b[0m     memory_map\u001b[38;5;241m=\u001b[39m\u001b[38;5;28;01mFalse\u001b[39;00m,\n\u001b[1;32m    657\u001b[0m     float_precision\u001b[38;5;241m=\u001b[39m\u001b[38;5;28;01mNone\u001b[39;00m,\n\u001b[1;32m    658\u001b[0m     storage_options: StorageOptions \u001b[38;5;241m=\u001b[39m \u001b[38;5;28;01mNone\u001b[39;00m,\n\u001b[1;32m    659\u001b[0m ):\n\u001b[1;32m    660\u001b[0m     \u001b[38;5;66;03m# locals() should never be modified\u001b[39;00m\n\u001b[1;32m    661\u001b[0m     kwds \u001b[38;5;241m=\u001b[39m \u001b[38;5;28mlocals\u001b[39m()\u001b[38;5;241m.\u001b[39mcopy()\n\u001b[1;32m    662\u001b[0m     \u001b[38;5;28;01mdel\u001b[39;00m kwds[\u001b[38;5;124m\"\u001b[39m\u001b[38;5;124mfilepath_or_buffer\u001b[39m\u001b[38;5;124m\"\u001b[39m]\n",
      "File \u001b[0;32m~/.local/lib/python3.10/site-packages/pandas/io/parsers/readers.py:1448\u001b[0m, in \u001b[0;36m__init__\u001b[0;34m(self, f, engine, **kwds)\u001b[0m\n\u001b[1;32m   1429\u001b[0m \u001b[38;5;28;01mdef\u001b[39;00m \u001b[38;5;21m_refine_defaults_read\u001b[39m(\n\u001b[1;32m   1430\u001b[0m     dialect: \u001b[38;5;28mstr\u001b[39m \u001b[38;5;241m|\u001b[39m csv\u001b[38;5;241m.\u001b[39mDialect,\n\u001b[1;32m   1431\u001b[0m     delimiter: \u001b[38;5;28mstr\u001b[39m \u001b[38;5;241m|\u001b[39m \u001b[38;5;28mobject\u001b[39m,\n\u001b[0;32m   (...)\u001b[0m\n\u001b[1;32m   1440\u001b[0m     defaults: \u001b[38;5;28mdict\u001b[39m[\u001b[38;5;28mstr\u001b[39m, Any],\n\u001b[1;32m   1441\u001b[0m ):\n\u001b[1;32m   1442\u001b[0m \u001b[38;5;250m    \u001b[39m\u001b[38;5;124;03m\"\"\"Validate/refine default values of input parameters of read_csv, read_table.\u001b[39;00m\n\u001b[1;32m   1443\u001b[0m \n\u001b[1;32m   1444\u001b[0m \u001b[38;5;124;03m    Parameters\u001b[39;00m\n\u001b[1;32m   1445\u001b[0m \u001b[38;5;124;03m    ----------\u001b[39;00m\n\u001b[1;32m   1446\u001b[0m \u001b[38;5;124;03m    dialect : str or csv.Dialect\u001b[39;00m\n\u001b[1;32m   1447\u001b[0m \u001b[38;5;124;03m        If provided, this parameter will override values (default or not) for the\u001b[39;00m\n\u001b[0;32m-> 1448\u001b[0m \u001b[38;5;124;03m        following parameters: `delimiter`, `doublequote`, `escapechar`,\u001b[39;00m\n\u001b[1;32m   1449\u001b[0m \u001b[38;5;124;03m        `skipinitialspace`, `quotechar`, and `quoting`. If it is necessary to\u001b[39;00m\n\u001b[1;32m   1450\u001b[0m \u001b[38;5;124;03m        override values, a ParserWarning will be issued. See csv.Dialect\u001b[39;00m\n\u001b[1;32m   1451\u001b[0m \u001b[38;5;124;03m        documentation for more details.\u001b[39;00m\n\u001b[1;32m   1452\u001b[0m \u001b[38;5;124;03m    delimiter : str or object\u001b[39;00m\n\u001b[1;32m   1453\u001b[0m \u001b[38;5;124;03m        Alias for sep.\u001b[39;00m\n\u001b[1;32m   1454\u001b[0m \u001b[38;5;124;03m    delim_whitespace : bool\u001b[39;00m\n\u001b[1;32m   1455\u001b[0m \u001b[38;5;124;03m        Specifies whether or not whitespace (e.g. ``' '`` or ``'\\t'``) will be\u001b[39;00m\n\u001b[1;32m   1456\u001b[0m \u001b[38;5;124;03m        used as the sep. Equivalent to setting ``sep='\\\\s+'``. If this option\u001b[39;00m\n\u001b[1;32m   1457\u001b[0m \u001b[38;5;124;03m        is set to True, nothing should be passed in for the ``delimiter``\u001b[39;00m\n\u001b[1;32m   1458\u001b[0m \u001b[38;5;124;03m        parameter.\u001b[39;00m\n\u001b[1;32m   1459\u001b[0m \u001b[38;5;124;03m    engine : {{'c', 'python'}}\u001b[39;00m\n\u001b[1;32m   1460\u001b[0m \u001b[38;5;124;03m        Parser engine to use. The C engine is faster while the python engine is\u001b[39;00m\n\u001b[1;32m   1461\u001b[0m \u001b[38;5;124;03m        currently more feature-complete.\u001b[39;00m\n\u001b[1;32m   1462\u001b[0m \u001b[38;5;124;03m    sep : str or object\u001b[39;00m\n\u001b[1;32m   1463\u001b[0m \u001b[38;5;124;03m        A delimiter provided by the user (str) or a sentinel value, i.e.\u001b[39;00m\n\u001b[1;32m   1464\u001b[0m \u001b[38;5;124;03m        pandas._libs.lib.no_default.\u001b[39;00m\n\u001b[1;32m   1465\u001b[0m \u001b[38;5;124;03m    error_bad_lines : str or None\u001b[39;00m\n\u001b[1;32m   1466\u001b[0m \u001b[38;5;124;03m        Whether to error on a bad line or not.\u001b[39;00m\n\u001b[1;32m   1467\u001b[0m \u001b[38;5;124;03m    warn_bad_lines : str or None\u001b[39;00m\n\u001b[1;32m   1468\u001b[0m \u001b[38;5;124;03m        Whether to warn on a bad line or not.\u001b[39;00m\n\u001b[1;32m   1469\u001b[0m \u001b[38;5;124;03m    on_bad_lines : str, callable or None\u001b[39;00m\n\u001b[1;32m   1470\u001b[0m \u001b[38;5;124;03m        An option for handling bad lines or a sentinel value(None).\u001b[39;00m\n\u001b[1;32m   1471\u001b[0m \u001b[38;5;124;03m    names : array-like, optional\u001b[39;00m\n\u001b[1;32m   1472\u001b[0m \u001b[38;5;124;03m        List of column names to use. If the file contains a header row,\u001b[39;00m\n\u001b[1;32m   1473\u001b[0m \u001b[38;5;124;03m        then you should explicitly pass ``header=0`` to override the column names.\u001b[39;00m\n\u001b[1;32m   1474\u001b[0m \u001b[38;5;124;03m        Duplicates in this list are not allowed.\u001b[39;00m\n\u001b[1;32m   1475\u001b[0m \u001b[38;5;124;03m    prefix : str, optional\u001b[39;00m\n\u001b[1;32m   1476\u001b[0m \u001b[38;5;124;03m        Prefix to add to column numbers when no header, e.g. 'X' for X0, X1, ...\u001b[39;00m\n\u001b[1;32m   1477\u001b[0m \u001b[38;5;124;03m    defaults: dict\u001b[39;00m\n\u001b[1;32m   1478\u001b[0m \u001b[38;5;124;03m        Default values of input parameters.\u001b[39;00m\n\u001b[1;32m   1479\u001b[0m \n\u001b[1;32m   1480\u001b[0m \u001b[38;5;124;03m    Returns\u001b[39;00m\n\u001b[1;32m   1481\u001b[0m \u001b[38;5;124;03m    -------\u001b[39;00m\n\u001b[1;32m   1482\u001b[0m \u001b[38;5;124;03m    kwds : dict\u001b[39;00m\n\u001b[1;32m   1483\u001b[0m \u001b[38;5;124;03m        Input parameters with correct values.\u001b[39;00m\n\u001b[1;32m   1484\u001b[0m \n\u001b[1;32m   1485\u001b[0m \u001b[38;5;124;03m    Raises\u001b[39;00m\n\u001b[1;32m   1486\u001b[0m \u001b[38;5;124;03m    ------\u001b[39;00m\n\u001b[1;32m   1487\u001b[0m \u001b[38;5;124;03m    ValueError :\u001b[39;00m\n\u001b[1;32m   1488\u001b[0m \u001b[38;5;124;03m        If a delimiter was specified with ``sep`` (or ``delimiter``) and\u001b[39;00m\n\u001b[1;32m   1489\u001b[0m \u001b[38;5;124;03m        ``delim_whitespace=True``.\u001b[39;00m\n\u001b[1;32m   1490\u001b[0m \u001b[38;5;124;03m        If on_bad_lines is specified(not ``None``) and ``error_bad_lines``/\u001b[39;00m\n\u001b[1;32m   1491\u001b[0m \u001b[38;5;124;03m        ``warn_bad_lines`` is True.\u001b[39;00m\n\u001b[1;32m   1492\u001b[0m \u001b[38;5;124;03m    \"\"\"\u001b[39;00m\n\u001b[1;32m   1493\u001b[0m     \u001b[38;5;66;03m# fix types for sep, delimiter to Union(str, Any)\u001b[39;00m\n\u001b[1;32m   1494\u001b[0m     delim_default \u001b[38;5;241m=\u001b[39m defaults[\u001b[38;5;124m\"\u001b[39m\u001b[38;5;124mdelimiter\u001b[39m\u001b[38;5;124m\"\u001b[39m]\n",
      "File \u001b[0;32m~/.local/lib/python3.10/site-packages/pandas/io/parsers/readers.py:1705\u001b[0m, in \u001b[0;36m_make_engine\u001b[0;34m(self, f, engine)\u001b[0m\n\u001b[1;32m   1701\u001b[0m         kwds[param] \u001b[38;5;241m=\u001b[39m dialect_val\n\u001b[1;32m   1702\u001b[0m     \u001b[38;5;28;01mreturn\u001b[39;00m kwds\n\u001b[0;32m-> 1705\u001b[0m \u001b[38;5;28;01mdef\u001b[39;00m \u001b[38;5;21m_validate_skipfooter\u001b[39m(kwds: \u001b[38;5;28mdict\u001b[39m[\u001b[38;5;28mstr\u001b[39m, Any]) \u001b[38;5;241m-\u001b[39m\u001b[38;5;241m>\u001b[39m \u001b[38;5;28;01mNone\u001b[39;00m:\n\u001b[1;32m   1706\u001b[0m \u001b[38;5;250m    \u001b[39m\u001b[38;5;124;03m\"\"\"\u001b[39;00m\n\u001b[1;32m   1707\u001b[0m \u001b[38;5;124;03m    Check whether skipfooter is compatible with other kwargs in TextFileReader.\u001b[39;00m\n\u001b[1;32m   1708\u001b[0m \n\u001b[0;32m   (...)\u001b[0m\n\u001b[1;32m   1717\u001b[0m \u001b[38;5;124;03m        If skipfooter is not compatible with other parameters.\u001b[39;00m\n\u001b[1;32m   1718\u001b[0m \u001b[38;5;124;03m    \"\"\"\u001b[39;00m\n\u001b[1;32m   1719\u001b[0m     \u001b[38;5;28;01mif\u001b[39;00m kwds\u001b[38;5;241m.\u001b[39mget(\u001b[38;5;124m\"\u001b[39m\u001b[38;5;124mskipfooter\u001b[39m\u001b[38;5;124m\"\u001b[39m):\n",
      "File \u001b[0;32m~/.local/lib/python3.10/site-packages/pandas/io/common.py:863\u001b[0m, in \u001b[0;36mget_handle\u001b[0;34m(path_or_buf, mode, encoding, compression, memory_map, is_text, errors, storage_options)\u001b[0m\n\u001b[1;32m    859\u001b[0m \u001b[38;5;28;01mclass\u001b[39;00m \u001b[38;5;21;01m_BytesZipFile\u001b[39;00m(zipfile\u001b[38;5;241m.\u001b[39mZipFile, BytesIO):  \u001b[38;5;66;03m# type: ignore[misc]\u001b[39;00m\n\u001b[1;32m    860\u001b[0m \u001b[38;5;250m    \u001b[39m\u001b[38;5;124;03m\"\"\"\u001b[39;00m\n\u001b[1;32m    861\u001b[0m \u001b[38;5;124;03m    Wrapper for standard library class ZipFile and allow the returned file-like\u001b[39;00m\n\u001b[1;32m    862\u001b[0m \u001b[38;5;124;03m    handle to accept byte strings via `write` method.\u001b[39;00m\n\u001b[0;32m--> 863\u001b[0m \n\u001b[1;32m    864\u001b[0m \u001b[38;5;124;03m    BytesIO provides attributes of file-like object and ZipFile.writestr writes\u001b[39;00m\n\u001b[1;32m    865\u001b[0m \u001b[38;5;124;03m    bytes strings into a member of the archive.\u001b[39;00m\n\u001b[1;32m    866\u001b[0m \u001b[38;5;124;03m    \"\"\"\u001b[39;00m\n\u001b[1;32m    868\u001b[0m     \u001b[38;5;66;03m# GH 17778\u001b[39;00m\n\u001b[1;32m    869\u001b[0m     \u001b[38;5;28;01mdef\u001b[39;00m \u001b[38;5;21m__init__\u001b[39m(\n\u001b[1;32m    870\u001b[0m         \u001b[38;5;28mself\u001b[39m,\n\u001b[1;32m    871\u001b[0m         file: FilePath \u001b[38;5;241m|\u001b[39m ReadBuffer[\u001b[38;5;28mbytes\u001b[39m] \u001b[38;5;241m|\u001b[39m WriteBuffer[\u001b[38;5;28mbytes\u001b[39m],\n\u001b[0;32m   (...)\u001b[0m\n\u001b[1;32m    874\u001b[0m         \u001b[38;5;241m*\u001b[39m\u001b[38;5;241m*\u001b[39mkwargs,\n\u001b[1;32m    875\u001b[0m     ):\n",
      "\u001b[0;31mFileNotFoundError\u001b[0m: [Errno 2] No such file or directory: '../input/sf-dst-predict-car-price/train_data.csv'"
     ]
    }
   ],
   "source": [
    "train_data = pd.read_csv(INPUT_DIR + 'train_data.csv')\n",
    "print(train_data.shape)\n",
    "train_data.head()"
   ]
  },
  {
   "cell_type": "code",
   "execution_count": null,
   "id": "bc5088f7",
   "metadata": {
    "execution": {
     "iopub.execute_input": "2023-07-27T12:29:20.577082Z",
     "iopub.status.busy": "2023-07-27T12:29:20.576354Z",
     "iopub.status.idle": "2023-07-27T12:29:20.634442Z",
     "shell.execute_reply": "2023-07-27T12:29:20.633904Z"
    },
    "papermill": {
     "duration": 0.094324,
     "end_time": "2023-07-27T12:29:20.634596",
     "exception": false,
     "start_time": "2023-07-27T12:29:20.540272",
     "status": "completed"
    },
    "tags": []
   },
   "outputs": [
    {
     "name": "stdout",
     "output_type": "stream",
     "text": [
      "(10697, 14)\n"
     ]
    },
    {
     "data": {
      "text/html": [
       "<div>\n",
       "<style scoped>\n",
       "    .dataframe tbody tr th:only-of-type {\n",
       "        vertical-align: middle;\n",
       "    }\n",
       "\n",
       "    .dataframe tbody tr th {\n",
       "        vertical-align: top;\n",
       "    }\n",
       "\n",
       "    .dataframe thead th {\n",
       "        text-align: right;\n",
       "    }\n",
       "</style>\n",
       "<table border=\"1\" class=\"dataframe\">\n",
       "  <thead>\n",
       "    <tr style=\"text-align: right;\">\n",
       "      <th></th>\n",
       "      <th>row_ID</th>\n",
       "      <th>vehicle_manufacturer</th>\n",
       "      <th>vehicle_model</th>\n",
       "      <th>vehicle_category</th>\n",
       "      <th>current_mileage</th>\n",
       "      <th>vehicle_year</th>\n",
       "      <th>vehicle_gearbox_type</th>\n",
       "      <th>doors_cnt</th>\n",
       "      <th>wheels</th>\n",
       "      <th>vehicle_color</th>\n",
       "      <th>vehicle_interior_color</th>\n",
       "      <th>car_vin</th>\n",
       "      <th>car_leather_interior</th>\n",
       "      <th>deal_type</th>\n",
       "    </tr>\n",
       "  </thead>\n",
       "  <tbody>\n",
       "    <tr>\n",
       "      <th>0</th>\n",
       "      <td>35000</td>\n",
       "      <td>TOYOTA</td>\n",
       "      <td>Prius</td>\n",
       "      <td>Hatchback</td>\n",
       "      <td>323733</td>\n",
       "      <td>2012</td>\n",
       "      <td>Automatic</td>\n",
       "      <td>4/5</td>\n",
       "      <td>Left wheel</td>\n",
       "      <td>Grey</td>\n",
       "      <td>Black</td>\n",
       "      <td>JTDKN3DU6C5439638</td>\n",
       "      <td>1</td>\n",
       "      <td>For Sale</td>\n",
       "    </tr>\n",
       "    <tr>\n",
       "      <th>1</th>\n",
       "      <td>35001</td>\n",
       "      <td>HYUNDAI</td>\n",
       "      <td>Elantra</td>\n",
       "      <td>Sedan</td>\n",
       "      <td>112000</td>\n",
       "      <td>2013</td>\n",
       "      <td>Tiptronic</td>\n",
       "      <td>4/5</td>\n",
       "      <td>Left wheel</td>\n",
       "      <td>Grey</td>\n",
       "      <td>Black</td>\n",
       "      <td>SURATSHIA</td>\n",
       "      <td>1</td>\n",
       "      <td>For Sale</td>\n",
       "    </tr>\n",
       "    <tr>\n",
       "      <th>2</th>\n",
       "      <td>35002</td>\n",
       "      <td>LEXUS</td>\n",
       "      <td>NX 300</td>\n",
       "      <td>Jeep</td>\n",
       "      <td>16920</td>\n",
       "      <td>2018</td>\n",
       "      <td>Automatic</td>\n",
       "      <td>NaN</td>\n",
       "      <td>Left wheel</td>\n",
       "      <td>Brown</td>\n",
       "      <td>NaN</td>\n",
       "      <td>JTJYARBZ5J2104521</td>\n",
       "      <td>1</td>\n",
       "      <td>For Sale</td>\n",
       "    </tr>\n",
       "    <tr>\n",
       "      <th>3</th>\n",
       "      <td>35003</td>\n",
       "      <td>LEXUS</td>\n",
       "      <td>CT 200h</td>\n",
       "      <td>Hatchback</td>\n",
       "      <td>302742</td>\n",
       "      <td>2012</td>\n",
       "      <td>Automatic</td>\n",
       "      <td>4/5</td>\n",
       "      <td>Left wheel</td>\n",
       "      <td>White</td>\n",
       "      <td>NaN</td>\n",
       "      <td>JTHKD5BH4C2070945</td>\n",
       "      <td>1</td>\n",
       "      <td>For Sale</td>\n",
       "    </tr>\n",
       "    <tr>\n",
       "      <th>4</th>\n",
       "      <td>35004</td>\n",
       "      <td>TOYOTA</td>\n",
       "      <td>RAV 4</td>\n",
       "      <td>Jeep</td>\n",
       "      <td>1800</td>\n",
       "      <td>2002</td>\n",
       "      <td>Manual</td>\n",
       "      <td>4/5</td>\n",
       "      <td>Left wheel</td>\n",
       "      <td>Silver</td>\n",
       "      <td>Black</td>\n",
       "      <td>NaN</td>\n",
       "      <td>0</td>\n",
       "      <td>For Sale</td>\n",
       "    </tr>\n",
       "  </tbody>\n",
       "</table>\n",
       "</div>"
      ],
      "text/plain": [
       "   row_ID vehicle_manufacturer vehicle_model vehicle_category  \\\n",
       "0   35000               TOYOTA         Prius        Hatchback   \n",
       "1   35001              HYUNDAI       Elantra            Sedan   \n",
       "2   35002                LEXUS        NX 300             Jeep   \n",
       "3   35003                LEXUS       CT 200h        Hatchback   \n",
       "4   35004               TOYOTA         RAV 4             Jeep   \n",
       "\n",
       "   current_mileage  vehicle_year vehicle_gearbox_type doors_cnt  \\\n",
       "0           323733          2012            Automatic       4/5   \n",
       "1           112000          2013            Tiptronic       4/5   \n",
       "2            16920          2018            Automatic       NaN   \n",
       "3           302742          2012            Automatic       4/5   \n",
       "4             1800          2002               Manual       4/5   \n",
       "\n",
       "           wheels vehicle_color vehicle_interior_color              car_vin  \\\n",
       "0    Left wheel           Grey                  Black    JTDKN3DU6C5439638    \n",
       "1    Left wheel           Grey                  Black            SURATSHIA    \n",
       "2    Left wheel          Brown                     NaN   JTJYARBZ5J2104521    \n",
       "3    Left wheel          White                     NaN   JTHKD5BH4C2070945    \n",
       "4    Left wheel         Silver                  Black                   NaN   \n",
       "\n",
       "   car_leather_interior deal_type  \n",
       "0                     1  For Sale  \n",
       "1                     1  For Sale  \n",
       "2                     1  For Sale  \n",
       "3                     1  For Sale  \n",
       "4                     0  For Sale  "
      ]
     },
     "execution_count": 9,
     "metadata": {},
     "output_type": "execute_result"
    }
   ],
   "source": [
    "test_data = pd.read_csv(INPUT_DIR + 'test_data.csv')\n",
    "print(test_data.shape)\n",
    "test_data.head()"
   ]
  },
  {
   "cell_type": "code",
   "execution_count": null,
   "id": "74e9167a",
   "metadata": {
    "execution": {
     "iopub.execute_input": "2023-07-27T12:29:20.705424Z",
     "iopub.status.busy": "2023-07-27T12:29:20.704676Z",
     "iopub.status.idle": "2023-07-27T12:29:20.720969Z",
     "shell.execute_reply": "2023-07-27T12:29:20.721499Z"
    },
    "papermill": {
     "duration": 0.053849,
     "end_time": "2023-07-27T12:29:20.721697",
     "exception": false,
     "start_time": "2023-07-27T12:29:20.667848",
     "status": "completed"
    },
    "tags": []
   },
   "outputs": [
    {
     "name": "stdout",
     "output_type": "stream",
     "text": [
      "(10697, 2)\n"
     ]
    },
    {
     "data": {
      "text/html": [
       "<div>\n",
       "<style scoped>\n",
       "    .dataframe tbody tr th:only-of-type {\n",
       "        vertical-align: middle;\n",
       "    }\n",
       "\n",
       "    .dataframe tbody tr th {\n",
       "        vertical-align: top;\n",
       "    }\n",
       "\n",
       "    .dataframe thead th {\n",
       "        text-align: right;\n",
       "    }\n",
       "</style>\n",
       "<table border=\"1\" class=\"dataframe\">\n",
       "  <thead>\n",
       "    <tr style=\"text-align: right;\">\n",
       "      <th></th>\n",
       "      <th>row_ID</th>\n",
       "      <th>final_price</th>\n",
       "    </tr>\n",
       "  </thead>\n",
       "  <tbody>\n",
       "    <tr>\n",
       "      <th>0</th>\n",
       "      <td>35000</td>\n",
       "      <td>0</td>\n",
       "    </tr>\n",
       "    <tr>\n",
       "      <th>1</th>\n",
       "      <td>35001</td>\n",
       "      <td>0</td>\n",
       "    </tr>\n",
       "    <tr>\n",
       "      <th>2</th>\n",
       "      <td>35002</td>\n",
       "      <td>0</td>\n",
       "    </tr>\n",
       "    <tr>\n",
       "      <th>3</th>\n",
       "      <td>35003</td>\n",
       "      <td>0</td>\n",
       "    </tr>\n",
       "    <tr>\n",
       "      <th>4</th>\n",
       "      <td>35004</td>\n",
       "      <td>0</td>\n",
       "    </tr>\n",
       "  </tbody>\n",
       "</table>\n",
       "</div>"
      ],
      "text/plain": [
       "   row_ID  final_price\n",
       "0   35000            0\n",
       "1   35001            0\n",
       "2   35002            0\n",
       "3   35003            0\n",
       "4   35004            0"
      ]
     },
     "execution_count": 10,
     "metadata": {},
     "output_type": "execute_result"
    }
   ],
   "source": [
    "submission = pd.read_csv(INPUT_DIR + 'sample_submission.csv')\n",
    "print(submission.shape)\n",
    "submission.head()"
   ]
  },
  {
   "cell_type": "markdown",
   "id": "1de351c3",
   "metadata": {
    "papermill": {
     "duration": 0.032621,
     "end_time": "2023-07-27T12:29:20.786816",
     "exception": false,
     "start_time": "2023-07-27T12:29:20.754195",
     "status": "completed"
    },
    "tags": []
   },
   "source": [
    "### Step 0.5. Some user feature preparation\n",
    "\n",
    "Be creative :)"
   ]
  },
  {
   "cell_type": "code",
   "execution_count": null,
   "id": "56cb853f",
   "metadata": {
    "execution": {
     "iopub.execute_input": "2023-07-27T12:29:20.857112Z",
     "iopub.status.busy": "2023-07-27T12:29:20.856319Z",
     "iopub.status.idle": "2023-07-27T12:29:20.862233Z",
     "shell.execute_reply": "2023-07-27T12:29:20.862858Z"
    },
    "papermill": {
     "duration": 0.042039,
     "end_time": "2023-07-27T12:29:20.863100",
     "exception": false,
     "start_time": "2023-07-27T12:29:20.821061",
     "status": "completed"
    },
    "tags": []
   },
   "outputs": [
    {
     "name": "stdout",
     "output_type": "stream",
     "text": [
      "CPU times: user 16 µs, sys: 3 µs, total: 19 µs\n",
      "Wall time: 22.6 µs\n"
     ]
    }
   ],
   "source": [
    "%%time\n",
    "\n",
    "def create_expert_feats(data):\n",
    "    pass\n",
    "\n",
    "create_expert_feats(train_data)\n",
    "create_expert_feats(test_data)"
   ]
  },
  {
   "cell_type": "markdown",
   "id": "678c03ca",
   "metadata": {
    "papermill": {
     "duration": 0.032534,
     "end_time": "2023-07-27T12:29:20.928482",
     "exception": false,
     "start_time": "2023-07-27T12:29:20.895948",
     "status": "completed"
    },
    "tags": []
   },
   "source": [
    "### 0.6. Data splitting for train-holdout\n",
    "As we have only one file with target values, we can split it into 80%-20% for holdout usage:"
   ]
  },
  {
   "cell_type": "code",
   "execution_count": null,
   "id": "5bf3900b",
   "metadata": {
    "execution": {
     "iopub.execute_input": "2023-07-27T12:29:20.998983Z",
     "iopub.status.busy": "2023-07-27T12:29:20.998242Z",
     "iopub.status.idle": "2023-07-27T12:29:21.042567Z",
     "shell.execute_reply": "2023-07-27T12:29:21.042027Z"
    },
    "papermill": {
     "duration": 0.081129,
     "end_time": "2023-07-27T12:29:21.042764",
     "exception": false,
     "start_time": "2023-07-27T12:29:20.961635",
     "status": "completed"
    },
    "tags": []
   },
   "outputs": [
    {
     "name": "stdout",
     "output_type": "stream",
     "text": [
      "Data splitted. Parts sizes: tr_data = (28000, 15), te_data = (7000, 15)\n"
     ]
    },
    {
     "data": {
      "text/html": [
       "<div>\n",
       "<style scoped>\n",
       "    .dataframe tbody tr th:only-of-type {\n",
       "        vertical-align: middle;\n",
       "    }\n",
       "\n",
       "    .dataframe tbody tr th {\n",
       "        vertical-align: top;\n",
       "    }\n",
       "\n",
       "    .dataframe thead th {\n",
       "        text-align: right;\n",
       "    }\n",
       "</style>\n",
       "<table border=\"1\" class=\"dataframe\">\n",
       "  <thead>\n",
       "    <tr style=\"text-align: right;\">\n",
       "      <th></th>\n",
       "      <th>row_ID</th>\n",
       "      <th>vehicle_manufacturer</th>\n",
       "      <th>vehicle_model</th>\n",
       "      <th>vehicle_category</th>\n",
       "      <th>current_mileage</th>\n",
       "      <th>vehicle_year</th>\n",
       "      <th>vehicle_gearbox_type</th>\n",
       "      <th>doors_cnt</th>\n",
       "      <th>wheels</th>\n",
       "      <th>vehicle_color</th>\n",
       "      <th>vehicle_interior_color</th>\n",
       "      <th>car_vin</th>\n",
       "      <th>car_leather_interior</th>\n",
       "      <th>deal_type</th>\n",
       "      <th>final_price</th>\n",
       "    </tr>\n",
       "  </thead>\n",
       "  <tbody>\n",
       "    <tr>\n",
       "      <th>18788</th>\n",
       "      <td>18788</td>\n",
       "      <td>HYUNDAI</td>\n",
       "      <td>Santa FE</td>\n",
       "      <td>Jeep</td>\n",
       "      <td>177719</td>\n",
       "      <td>2010</td>\n",
       "      <td>Automatic</td>\n",
       "      <td>4/5</td>\n",
       "      <td>Left wheel</td>\n",
       "      <td>Silver</td>\n",
       "      <td>Black</td>\n",
       "      <td>NaN</td>\n",
       "      <td>1</td>\n",
       "      <td>For Sale</td>\n",
       "      <td>7464.0</td>\n",
       "    </tr>\n",
       "    <tr>\n",
       "      <th>776</th>\n",
       "      <td>776</td>\n",
       "      <td>HYUNDAI</td>\n",
       "      <td>Santa FE</td>\n",
       "      <td>Jeep</td>\n",
       "      <td>143166</td>\n",
       "      <td>2011</td>\n",
       "      <td>Automatic</td>\n",
       "      <td>4/5</td>\n",
       "      <td>Left wheel</td>\n",
       "      <td>Grey</td>\n",
       "      <td>Black</td>\n",
       "      <td>NaN</td>\n",
       "      <td>1</td>\n",
       "      <td>For Sale</td>\n",
       "      <td>5959.0</td>\n",
       "    </tr>\n",
       "    <tr>\n",
       "      <th>480</th>\n",
       "      <td>480</td>\n",
       "      <td>BMW</td>\n",
       "      <td>X5 XDRIVE35 D</td>\n",
       "      <td>Jeep</td>\n",
       "      <td>149000</td>\n",
       "      <td>2015</td>\n",
       "      <td>Tiptronic</td>\n",
       "      <td>4/5</td>\n",
       "      <td>Left wheel</td>\n",
       "      <td>Black</td>\n",
       "      <td>Black</td>\n",
       "      <td>NaN</td>\n",
       "      <td>1</td>\n",
       "      <td>For Sale</td>\n",
       "      <td>23900.0</td>\n",
       "    </tr>\n",
       "    <tr>\n",
       "      <th>30078</th>\n",
       "      <td>30078</td>\n",
       "      <td>CHRYSLER</td>\n",
       "      <td>300</td>\n",
       "      <td>Sedan</td>\n",
       "      <td>133904</td>\n",
       "      <td>2014</td>\n",
       "      <td>Automatic</td>\n",
       "      <td>4/5</td>\n",
       "      <td>Left wheel</td>\n",
       "      <td>Silver</td>\n",
       "      <td>Black</td>\n",
       "      <td>NaN</td>\n",
       "      <td>1</td>\n",
       "      <td>For Sale</td>\n",
       "      <td>1750.0</td>\n",
       "    </tr>\n",
       "    <tr>\n",
       "      <th>29115</th>\n",
       "      <td>29115</td>\n",
       "      <td>TOYOTA</td>\n",
       "      <td>4Runner</td>\n",
       "      <td>Jeep</td>\n",
       "      <td>0</td>\n",
       "      <td>2018</td>\n",
       "      <td>Automatic</td>\n",
       "      <td>4/5</td>\n",
       "      <td>Left wheel</td>\n",
       "      <td>Black</td>\n",
       "      <td>Black</td>\n",
       "      <td>NaN</td>\n",
       "      <td>1</td>\n",
       "      <td>For Sale</td>\n",
       "      <td>100.0</td>\n",
       "    </tr>\n",
       "  </tbody>\n",
       "</table>\n",
       "</div>"
      ],
      "text/plain": [
       "       row_ID vehicle_manufacturer   vehicle_model vehicle_category  \\\n",
       "18788   18788              HYUNDAI        Santa FE             Jeep   \n",
       "776       776              HYUNDAI        Santa FE             Jeep   \n",
       "480       480                  BMW  X5 XDRIVE35 D              Jeep   \n",
       "30078   30078             CHRYSLER             300            Sedan   \n",
       "29115   29115               TOYOTA         4Runner             Jeep   \n",
       "\n",
       "       current_mileage  vehicle_year vehicle_gearbox_type doors_cnt  \\\n",
       "18788           177719          2010            Automatic       4/5   \n",
       "776             143166          2011            Automatic       4/5   \n",
       "480             149000          2015            Tiptronic       4/5   \n",
       "30078           133904          2014            Automatic       4/5   \n",
       "29115                0          2018            Automatic       4/5   \n",
       "\n",
       "               wheels vehicle_color vehicle_interior_color car_vin  \\\n",
       "18788    Left wheel         Silver                  Black      NaN   \n",
       "776      Left wheel           Grey                  Black      NaN   \n",
       "480      Left wheel          Black                  Black      NaN   \n",
       "30078    Left wheel         Silver                  Black      NaN   \n",
       "29115    Left wheel          Black                  Black      NaN   \n",
       "\n",
       "       car_leather_interior deal_type  final_price  \n",
       "18788                     1  For Sale       7464.0  \n",
       "776                       1  For Sale       5959.0  \n",
       "480                       1  For Sale      23900.0  \n",
       "30078                     1  For Sale       1750.0  \n",
       "29115                     1  For Sale        100.0  "
      ]
     },
     "execution_count": 12,
     "metadata": {},
     "output_type": "execute_result"
    }
   ],
   "source": [
    "tr_data, te_data = train_test_split(\n",
    "    train_data, \n",
    "    test_size=TEST_SIZE, \n",
    "    random_state=RANDOM_STATE\n",
    ")\n",
    "\n",
    "print(f'Data splitted. Parts sizes: tr_data = {tr_data.shape}, te_data = {te_data.shape}')\n",
    "\n",
    "tr_data.head()"
   ]
  },
  {
   "cell_type": "markdown",
   "id": "6a1e8938",
   "metadata": {
    "papermill": {
     "duration": 0.034579,
     "end_time": "2023-07-27T12:29:21.112118",
     "exception": false,
     "start_time": "2023-07-27T12:29:21.077539",
     "status": "completed"
    },
    "tags": []
   },
   "source": [
    "# 1. Task definition"
   ]
  },
  {
   "cell_type": "markdown",
   "id": "79e1355e",
   "metadata": {
    "papermill": {
     "duration": 0.034472,
     "end_time": "2023-07-27T12:29:21.180527",
     "exception": false,
     "start_time": "2023-07-27T12:29:21.146055",
     "status": "completed"
    },
    "tags": []
   },
   "source": [
    "### 1.1. Task type\n",
    "\n",
    "On the cell below we create Task object - the class to setup what task LightAutoML model should solve with specific loss and metric if necessary (more info can be found [here](https://lightautoml.readthedocs.io/en/latest/pages/modules/generated/lightautoml.tasks.base.Task.html#lightautoml.tasks.base.Task) in our documentation):"
   ]
  },
  {
   "cell_type": "code",
   "execution_count": null,
   "id": "fb1a53da",
   "metadata": {
    "execution": {
     "iopub.execute_input": "2023-07-27T12:29:21.259774Z",
     "iopub.status.busy": "2023-07-27T12:29:21.259014Z",
     "iopub.status.idle": "2023-07-27T12:29:21.261718Z",
     "shell.execute_reply": "2023-07-27T12:29:21.261163Z"
    },
    "papermill": {
     "duration": 0.046501,
     "end_time": "2023-07-27T12:29:21.261884",
     "exception": false,
     "start_time": "2023-07-27T12:29:21.215383",
     "status": "completed"
    },
    "tags": []
   },
   "outputs": [],
   "source": [
    "task = Task('reg', loss = 'mse', metric = 'mae')"
   ]
  },
  {
   "cell_type": "markdown",
   "id": "e53c84a5",
   "metadata": {
    "papermill": {
     "duration": 0.035819,
     "end_time": "2023-07-27T12:29:21.332228",
     "exception": false,
     "start_time": "2023-07-27T12:29:21.296409",
     "status": "completed"
    },
    "tags": []
   },
   "source": [
    "### 1.2. Feature roles setup"
   ]
  },
  {
   "cell_type": "markdown",
   "id": "3be9d70f",
   "metadata": {
    "papermill": {
     "duration": 0.035126,
     "end_time": "2023-07-27T12:29:21.401912",
     "exception": false,
     "start_time": "2023-07-27T12:29:21.366786",
     "status": "completed"
    },
    "tags": []
   },
   "source": [
    "To solve the task, we need to setup columns roles. The **only role you must setup is target role**, everything else (drop, numeric, categorical, group, weights etc.) is up to user - LightAutoML models have automatic columns typization inside:"
   ]
  },
  {
   "cell_type": "code",
   "execution_count": null,
   "id": "407b0f38",
   "metadata": {
    "execution": {
     "iopub.execute_input": "2023-07-27T12:29:21.478023Z",
     "iopub.status.busy": "2023-07-27T12:29:21.477218Z",
     "iopub.status.idle": "2023-07-27T12:29:21.480354Z",
     "shell.execute_reply": "2023-07-27T12:29:21.479791Z"
    },
    "papermill": {
     "duration": 0.042293,
     "end_time": "2023-07-27T12:29:21.480520",
     "exception": false,
     "start_time": "2023-07-27T12:29:21.438227",
     "status": "completed"
    },
    "tags": []
   },
   "outputs": [],
   "source": [
    "roles = {\n",
    "    'target': TARGET_NAME,\n",
    "    'drop': ['row_ID']\n",
    "}"
   ]
  },
  {
   "cell_type": "markdown",
   "id": "d1b67bcc",
   "metadata": {
    "papermill": {
     "duration": 0.038784,
     "end_time": "2023-07-27T12:29:21.554970",
     "exception": false,
     "start_time": "2023-07-27T12:29:21.516186",
     "status": "completed"
    },
    "tags": []
   },
   "source": [
    "### 1.3. LightAutoML model creation - TabularAutoML preset"
   ]
  },
  {
   "cell_type": "markdown",
   "id": "89d47dbf",
   "metadata": {
    "papermill": {
     "duration": 0.035202,
     "end_time": "2023-07-27T12:29:21.625829",
     "exception": false,
     "start_time": "2023-07-27T12:29:21.590627",
     "status": "completed"
    },
    "tags": []
   },
   "source": [
    "In next the cell we are going to create LightAutoML model with `TabularAutoML` class - preset with default model structure like in the image below:\n",
    "\n",
    "<img src=\"https://github.com/AILab-MLTools/LightAutoML/raw/master/imgs/tutorial_blackbox_pipeline.png\" alt=\"TabularAutoML preset pipeline\" style=\"width:85%;\"/>\n",
    "\n",
    "in just several lines. Let's discuss the params we can setup:\n",
    "- `task` - the type of the ML task (the only **must have** parameter)\n",
    "- `timeout` - time limit in seconds for model to train\n",
    "- `cpu_limit` - vCPU count for model to use\n",
    "- `reader_params` - parameter change for Reader object inside preset, which works on the first step of data preparation: automatic feature typization, preliminary almost-constant features, correct CV setup etc. For example, we setup `n_jobs` threads for typization algo, `cv` folds and `random_state` as inside CV seed.\n",
    "\n",
    "**Important note**: `reader_params` key is one of the YAML config keys, which is used inside `TabularAutoML` preset. [More details](https://github.com/AILab-MLTools/LightAutoML/blob/master/lightautoml/automl/presets/tabular_config.yml) on its structure with explanation comments can be found on the link attached. Each key from this config can be modified with user settings during preset object initialization. To get more info about different parameters setting (for example, ML algos which can be used in `general_params->use_algos`) please take a look at our [article on TowardsDataScience](https://towardsdatascience.com/lightautoml-preset-usage-tutorial-2cce7da6f936).\n",
    "\n",
    "Moreover, to receive the automatic report for our model we can use `ReportDeco` decorator and work with the decorated version in the same way as we do with usual one (more details in [this tutorial](https://github.com/AILab-MLTools/LightAutoML/blob/master/examples/tutorials/Tutorial_1_basics.ipynb))"
   ]
  },
  {
   "cell_type": "code",
   "execution_count": null,
   "id": "ad65477b",
   "metadata": {
    "execution": {
     "iopub.execute_input": "2023-07-27T12:29:21.699852Z",
     "iopub.status.busy": "2023-07-27T12:29:21.699128Z",
     "iopub.status.idle": "2023-07-27T12:29:21.741732Z",
     "shell.execute_reply": "2023-07-27T12:29:21.742330Z"
    },
    "papermill": {
     "duration": 0.081698,
     "end_time": "2023-07-27T12:29:21.742527",
     "exception": false,
     "start_time": "2023-07-27T12:29:21.660829",
     "status": "completed"
    },
    "tags": []
   },
   "outputs": [],
   "source": [
    "automl = TabularAutoML(\n",
    "    task = task, \n",
    "    timeout = TIMEOUT,\n",
    "    cpu_limit = N_THREADS,\n",
    "    reader_params = {'n_jobs': N_THREADS, 'cv': N_FOLDS, 'random_state': RANDOM_STATE}\n",
    ")"
   ]
  },
  {
   "cell_type": "markdown",
   "id": "12faf3f0",
   "metadata": {
    "papermill": {
     "duration": 0.035237,
     "end_time": "2023-07-27T12:29:21.813420",
     "exception": false,
     "start_time": "2023-07-27T12:29:21.778183",
     "status": "completed"
    },
    "tags": []
   },
   "source": [
    "# 2. AutoML training"
   ]
  },
  {
   "cell_type": "markdown",
   "id": "57bb0f20",
   "metadata": {
    "papermill": {
     "duration": 0.036238,
     "end_time": "2023-07-27T12:29:21.884176",
     "exception": false,
     "start_time": "2023-07-27T12:29:21.847938",
     "status": "completed"
    },
    "tags": []
   },
   "source": [
    "To run autoML training use fit_predict method:\n",
    "- `train_data` - Dataset to train.\n",
    "- `roles` - Roles dict.\n",
    "- `verbose` - Controls the verbosity: the higher, the more messages.\n",
    "        <1  : messages are not displayed;\n",
    "        >=1 : the computation process for layers is displayed;\n",
    "        >=2 : the information about folds processing is also displayed;\n",
    "        >=3 : the hyperparameters optimization process is also displayed;\n",
    "        >=4 : the training process for every algorithm is displayed;\n",
    "\n",
    "Note: out-of-fold prediction is calculated during training and returned from the fit_predict method"
   ]
  },
  {
   "cell_type": "code",
   "execution_count": null,
   "id": "eac36060",
   "metadata": {
    "execution": {
     "iopub.execute_input": "2023-07-27T12:29:21.959263Z",
     "iopub.status.busy": "2023-07-27T12:29:21.958534Z",
     "iopub.status.idle": "2023-07-27T12:35:07.875241Z",
     "shell.execute_reply": "2023-07-27T12:35:07.874617Z"
    },
    "papermill": {
     "duration": 345.955253,
     "end_time": "2023-07-27T12:35:07.875446",
     "exception": false,
     "start_time": "2023-07-27T12:29:21.920193",
     "status": "completed"
    },
    "scrolled": true,
    "tags": []
   },
   "outputs": [
    {
     "name": "stdout",
     "output_type": "stream",
     "text": [
      "[12:29:21] Stdout logging level is INFO.\n",
      "[12:29:21] Copying TaskTimer may affect the parent PipelineTimer, so copy will create new unlimited TaskTimer\n",
      "[12:29:21] Task: reg\n",
      "\n",
      "[12:29:21] Start automl preset with listed constraints:\n",
      "[12:29:21] - time: 900.00 seconds\n",
      "[12:29:21] - CPU: 4 cores\n",
      "[12:29:21] - memory: 16 GB\n",
      "\n",
      "[12:29:21] \u001b[1mTrain data shape: (28000, 15)\u001b[0m\n",
      "\n",
      "[12:29:29] Layer \u001b[1m1\u001b[0m train process start. Time left 892.52 secs\n",
      "[12:29:30] Start fitting \u001b[1mLvl_0_Pipe_0_Mod_0_LinearL2\u001b[0m ...\n",
      "[12:29:37] Fitting \u001b[1mLvl_0_Pipe_0_Mod_0_LinearL2\u001b[0m finished. score = \u001b[1m-4133.6919433980665\u001b[0m\n",
      "[12:29:37] \u001b[1mLvl_0_Pipe_0_Mod_0_LinearL2\u001b[0m fitting and predicting completed\n",
      "[12:29:37] Time left 884.31 secs\n",
      "\n",
      "[12:29:38] \u001b[1mSelector_LightGBM\u001b[0m fitting and predicting completed\n",
      "[12:29:40] Start fitting \u001b[1mLvl_0_Pipe_1_Mod_0_LightGBM\u001b[0m ...\n",
      "[12:29:45] Fitting \u001b[1mLvl_0_Pipe_1_Mod_0_LightGBM\u001b[0m finished. score = \u001b[1m-3820.8330453425133\u001b[0m\n",
      "[12:29:45] \u001b[1mLvl_0_Pipe_1_Mod_0_LightGBM\u001b[0m fitting and predicting completed\n",
      "[12:29:45] Start hyperparameters optimization for \u001b[1mLvl_0_Pipe_1_Mod_1_Tuned_LightGBM\u001b[0m ... Time budget is 177.72 secs\n",
      "[12:32:49] Hyperparameters optimization for \u001b[1mLvl_0_Pipe_1_Mod_1_Tuned_LightGBM\u001b[0m completed\n",
      "[12:32:49] Start fitting \u001b[1mLvl_0_Pipe_1_Mod_1_Tuned_LightGBM\u001b[0m ...\n",
      "[12:33:01] Fitting \u001b[1mLvl_0_Pipe_1_Mod_1_Tuned_LightGBM\u001b[0m finished. score = \u001b[1m-3385.359169757501\u001b[0m\n",
      "[12:33:01] \u001b[1mLvl_0_Pipe_1_Mod_1_Tuned_LightGBM\u001b[0m fitting and predicting completed\n",
      "[12:33:01] Start fitting \u001b[1mLvl_0_Pipe_1_Mod_2_CatBoost\u001b[0m ...\n",
      "[12:33:08] Fitting \u001b[1mLvl_0_Pipe_1_Mod_2_CatBoost\u001b[0m finished. score = \u001b[1m-4488.787794279397\u001b[0m\n",
      "[12:33:08] \u001b[1mLvl_0_Pipe_1_Mod_2_CatBoost\u001b[0m fitting and predicting completed\n",
      "[12:33:08] Start hyperparameters optimization for \u001b[1mLvl_0_Pipe_1_Mod_3_Tuned_CatBoost\u001b[0m ... Time budget is 300.00 secs\n",
      "[12:35:01] Hyperparameters optimization for \u001b[1mLvl_0_Pipe_1_Mod_3_Tuned_CatBoost\u001b[0m completed\n",
      "[12:35:01] Start fitting \u001b[1mLvl_0_Pipe_1_Mod_3_Tuned_CatBoost\u001b[0m ...\n",
      "[12:35:07] Fitting \u001b[1mLvl_0_Pipe_1_Mod_3_Tuned_CatBoost\u001b[0m finished. score = \u001b[1m-3808.794313063283\u001b[0m\n",
      "[12:35:07] \u001b[1mLvl_0_Pipe_1_Mod_3_Tuned_CatBoost\u001b[0m fitting and predicting completed\n",
      "[12:35:07] Time left 554.24 secs\n",
      "\n",
      "[12:35:07] \u001b[1mLayer 1 training completed.\u001b[0m\n",
      "\n",
      "[12:35:07] Blending: optimization starts with equal weights and score \u001b[1m-3693.759353630611\u001b[0m\n",
      "[12:35:07] Blending: iteration \u001b[1m0\u001b[0m: score = \u001b[1m-3362.9432498396463\u001b[0m, weights = \u001b[1m[0.       0.       0.844685 0.       0.155315]\u001b[0m\n",
      "[12:35:07] Blending: iteration \u001b[1m1\u001b[0m: score = \u001b[1m-3362.9432498396463\u001b[0m, weights = \u001b[1m[0.       0.       0.844685 0.       0.155315]\u001b[0m\n",
      "[12:35:07] Blending: no score update. Terminated\n",
      "\n",
      "[12:35:07] \u001b[1mAutoml preset training completed in 345.89 seconds\u001b[0m\n",
      "\n",
      "[12:35:07] Model description:\n",
      "Final prediction for new objects (level 0) = \n",
      "\t 0.84469 * (5 averaged models Lvl_0_Pipe_1_Mod_1_Tuned_LightGBM) +\n",
      "\t 0.15531 * (5 averaged models Lvl_0_Pipe_1_Mod_3_Tuned_CatBoost) \n",
      "\n",
      "CPU times: user 20min 24s, sys: 53.7 s, total: 21min 18s\n",
      "Wall time: 5min 45s\n"
     ]
    }
   ],
   "source": [
    "%%time \n",
    "oof_pred = automl.fit_predict(tr_data, roles = roles, verbose = 1)"
   ]
  },
  {
   "cell_type": "code",
   "execution_count": null,
   "id": "df028689",
   "metadata": {
    "execution": {
     "iopub.execute_input": "2023-07-27T12:35:07.977742Z",
     "iopub.status.busy": "2023-07-27T12:35:07.976969Z",
     "iopub.status.idle": "2023-07-27T12:35:07.982310Z",
     "shell.execute_reply": "2023-07-27T12:35:07.981710Z"
    },
    "papermill": {
     "duration": 0.060594,
     "end_time": "2023-07-27T12:35:07.982473",
     "exception": false,
     "start_time": "2023-07-27T12:35:07.921879",
     "status": "completed"
    },
    "tags": []
   },
   "outputs": [
    {
     "name": "stdout",
     "output_type": "stream",
     "text": [
      "Final prediction for new objects (level 0) = \n",
      "\t 0.84469 * (5 averaged models Lvl_0_Pipe_1_Mod_1_Tuned_LightGBM) +\n",
      "\t 0.15531 * (5 averaged models Lvl_0_Pipe_1_Mod_3_Tuned_CatBoost) \n"
     ]
    }
   ],
   "source": [
    "print(automl.create_model_str_desc())"
   ]
  },
  {
   "cell_type": "markdown",
   "id": "c7478bcd",
   "metadata": {
    "papermill": {
     "duration": 0.048092,
     "end_time": "2023-07-27T12:35:08.078123",
     "exception": false,
     "start_time": "2023-07-27T12:35:08.030031",
     "status": "completed"
    },
    "tags": []
   },
   "source": [
    "# 3. Prediction on holdout and model evaluation\n",
    "\n",
    "We now have the trained model called `automl` and it's time to see what MAE score it can receive on train and holdout data:"
   ]
  },
  {
   "cell_type": "code",
   "execution_count": null,
   "id": "f0c3a847",
   "metadata": {
    "execution": {
     "iopub.execute_input": "2023-07-27T12:35:08.184110Z",
     "iopub.status.busy": "2023-07-27T12:35:08.181092Z",
     "iopub.status.idle": "2023-07-27T12:35:08.525623Z",
     "shell.execute_reply": "2023-07-27T12:35:08.525082Z"
    },
    "papermill": {
     "duration": 0.400955,
     "end_time": "2023-07-27T12:35:08.525802",
     "exception": false,
     "start_time": "2023-07-27T12:35:08.124847",
     "status": "completed"
    },
    "tags": []
   },
   "outputs": [
    {
     "name": "stdout",
     "output_type": "stream",
     "text": [
      "Prediction for te_data:\n",
      "array([[28756.307  ],\n",
      "       [ 6073.8267 ],\n",
      "       [ 1007.95746],\n",
      "       ...,\n",
      "       [ 8246.394  ],\n",
      "       [ 5410.8535 ],\n",
      "       [ 5615.6924 ]], dtype=float32)\n",
      "Shape = (7000, 1)\n",
      "CPU times: user 608 ms, sys: 9.76 ms, total: 617 ms\n",
      "Wall time: 344 ms\n"
     ]
    }
   ],
   "source": [
    "%%time\n",
    "\n",
    "te_pred = automl.predict(te_data)\n",
    "print(f'Prediction for te_data:\\n{te_pred}\\nShape = {te_pred.shape}')"
   ]
  },
  {
   "cell_type": "code",
   "execution_count": null,
   "id": "9db77e1a",
   "metadata": {
    "execution": {
     "iopub.execute_input": "2023-07-27T12:35:08.626450Z",
     "iopub.status.busy": "2023-07-27T12:35:08.625692Z",
     "iopub.status.idle": "2023-07-27T12:35:08.630587Z",
     "shell.execute_reply": "2023-07-27T12:35:08.631170Z"
    },
    "papermill": {
     "duration": 0.057342,
     "end_time": "2023-07-27T12:35:08.631378",
     "exception": false,
     "start_time": "2023-07-27T12:35:08.574036",
     "status": "completed"
    },
    "tags": []
   },
   "outputs": [
    {
     "name": "stdout",
     "output_type": "stream",
     "text": [
      "TRAIN out-of-fold score: 3362.9432498396463\n",
      "HOLDOUT score: 3548.6826066098893\n"
     ]
    }
   ],
   "source": [
    "print(f'TRAIN out-of-fold score: {mean_absolute_error(tr_data[TARGET_NAME].values, oof_pred.data[:, 0])}')\n",
    "print(f'HOLDOUT score: {mean_absolute_error(te_data[TARGET_NAME].values, te_pred.data[:, 0])}')"
   ]
  },
  {
   "cell_type": "markdown",
   "id": "540f2850",
   "metadata": {
    "papermill": {
     "duration": 0.050875,
     "end_time": "2023-07-27T12:35:08.731163",
     "exception": false,
     "start_time": "2023-07-27T12:35:08.680288",
     "status": "completed"
    },
    "tags": []
   },
   "source": [
    "# 4. Feature importances calculation \n",
    "\n",
    "For feature importances calculation we have 2 different methods in LightAutoML:\n",
    "- Fast (`fast`) - this method uses feature importances from feature selector LGBM model inside LightAutoML. It works extremely fast and almost always (almost because of situations, when feature selection is turned off or selector was removed from the final models with all GBM models). no need to use new labelled data.\n",
    "- Accurate (`accurate`) - this method calculate *features permutation importances* for the whole LightAutoML model based on the **new labelled data**. It always works but can take a lot of time to finish (depending on the model structure, new labelled dataset size etc.)."
   ]
  },
  {
   "cell_type": "code",
   "execution_count": null,
   "id": "b5db479a",
   "metadata": {
    "execution": {
     "iopub.execute_input": "2023-07-27T12:35:08.843435Z",
     "iopub.status.busy": "2023-07-27T12:35:08.842608Z",
     "iopub.status.idle": "2023-07-27T12:35:09.330167Z",
     "shell.execute_reply": "2023-07-27T12:35:09.329510Z"
    },
    "papermill": {
     "duration": 0.548197,
     "end_time": "2023-07-27T12:35:09.330340",
     "exception": false,
     "start_time": "2023-07-27T12:35:08.782143",
     "status": "completed"
    },
    "tags": []
   },
   "outputs": [
    {
     "name": "stdout",
     "output_type": "stream",
     "text": [
      "CPU times: user 111 ms, sys: 45.9 ms, total: 157 ms\n",
      "Wall time: 102 ms\n"
     ]
    },
    {
     "data": {
      "text/plain": [
       "<AxesSubplot:xlabel='Feature'>"
      ]
     },
     "execution_count": 20,
     "metadata": {},
     "output_type": "execute_result"
    },
    {
     "data": {
      "image/png": "[encoded data removed]",
      "text/plain": [
       "<Figure size 2160x720 with 1 Axes>"
      ]
     },
     "metadata": {
      "needs_background": "light"
     },
     "output_type": "display_data"
    }
   ],
   "source": [
    "%%time\n",
    "\n",
    "# Fast feature importances calculation\n",
    "fast_fi = automl.get_feature_scores('fast')\n",
    "fast_fi.set_index('Feature')['Importance'].plot.bar(figsize = (30, 10), grid = True)"
   ]
  },
  {
   "cell_type": "code",
   "execution_count": null,
   "id": "90f71b12",
   "metadata": {
    "execution": {
     "iopub.execute_input": "2023-07-27T12:35:09.440913Z",
     "iopub.status.busy": "2023-07-27T12:35:09.440174Z",
     "iopub.status.idle": "2023-07-27T12:35:14.605994Z",
     "shell.execute_reply": "2023-07-27T12:35:14.605226Z"
    },
    "papermill": {
     "duration": 5.223121,
     "end_time": "2023-07-27T12:35:14.606151",
     "exception": false,
     "start_time": "2023-07-27T12:35:09.383030",
     "status": "completed"
    },
    "tags": []
   },
   "outputs": [
    {
     "name": "stdout",
     "output_type": "stream",
     "text": [
      "CPU times: user 8.83 s, sys: 134 ms, total: 8.96 s\n",
      "Wall time: 5.16 s\n"
     ]
    }
   ],
   "source": [
    "%%time\n",
    "\n",
    "# Accurate feature importances calculation (Permutation importances) -  can take long time to calculate on bigger datasets\n",
    "accurate_fi = automl.get_feature_scores('accurate', te_data, silent = False)"
   ]
  },
  {
   "cell_type": "code",
   "execution_count": null,
   "id": "59f1081f",
   "metadata": {
    "execution": {
     "iopub.execute_input": "2023-07-27T12:35:14.748547Z",
     "iopub.status.busy": "2023-07-27T12:35:14.741150Z",
     "iopub.status.idle": "2023-07-27T12:35:15.104394Z",
     "shell.execute_reply": "2023-07-27T12:35:15.103772Z"
    },
    "papermill": {
     "duration": 0.447109,
     "end_time": "2023-07-27T12:35:15.104574",
     "exception": false,
     "start_time": "2023-07-27T12:35:14.657465",
     "status": "completed"
    },
    "tags": []
   },
   "outputs": [
    {
     "data": {
      "text/plain": [
       "<AxesSubplot:xlabel='Feature'>"
      ]
     },
     "execution_count": 22,
     "metadata": {},
     "output_type": "execute_result"
    },
    {
     "data": {
      "image/png": "[encoded data removed]",
      "text/plain": [
       "<Figure size 2160x720 with 1 Axes>"
      ]
     },
     "metadata": {
      "needs_background": "light"
     },
     "output_type": "display_data"
    }
   ],
   "source": [
    "accurate_fi.set_index('Feature')['Importance'].plot.bar(figsize = (30, 10), grid = True)"
   ]
  },
  {
   "cell_type": "markdown",
   "id": "ce737702",
   "metadata": {
    "papermill": {
     "duration": 0.053993,
     "end_time": "2023-07-27T12:35:15.214788",
     "exception": false,
     "start_time": "2023-07-27T12:35:15.160795",
     "status": "completed"
    },
    "tags": []
   },
   "source": [
    "# 5. Predict for test dataset\n",
    "\n",
    "We are also ready to predict for our test competition dataset and submission file creation:"
   ]
  },
  {
   "cell_type": "code",
   "execution_count": null,
   "id": "b45962ac",
   "metadata": {
    "execution": {
     "iopub.execute_input": "2023-07-27T12:35:15.333393Z",
     "iopub.status.busy": "2023-07-27T12:35:15.329678Z",
     "iopub.status.idle": "2023-07-27T12:35:15.799960Z",
     "shell.execute_reply": "2023-07-27T12:35:15.799211Z"
    },
    "papermill": {
     "duration": 0.531351,
     "end_time": "2023-07-27T12:35:15.800125",
     "exception": false,
     "start_time": "2023-07-27T12:35:15.268774",
     "status": "completed"
    },
    "tags": []
   },
   "outputs": [
    {
     "name": "stdout",
     "output_type": "stream",
     "text": [
      "Prediction for te_data:\n",
      "array([[ 3293.4963],\n",
      "       [ 5970.387 ],\n",
      "       [ 6111.1094],\n",
      "       ...,\n",
      "       [12868.136 ],\n",
      "       [ 4538.6475],\n",
      "       [ 6985.879 ]], dtype=float32)\n",
      "Shape = (10697, 1)\n"
     ]
    }
   ],
   "source": [
    "test_pred = automl.predict(test_data)\n",
    "print(f'Prediction for te_data:\\n{test_pred}\\nShape = {test_pred.shape}')"
   ]
  },
  {
   "cell_type": "code",
   "execution_count": null,
   "id": "f86458df",
   "metadata": {
    "execution": {
     "iopub.execute_input": "2023-07-27T12:35:15.919436Z",
     "iopub.status.busy": "2023-07-27T12:35:15.918677Z",
     "iopub.status.idle": "2023-07-27T12:35:15.948056Z",
     "shell.execute_reply": "2023-07-27T12:35:15.947411Z"
    },
    "papermill": {
     "duration": 0.09076,
     "end_time": "2023-07-27T12:35:15.948217",
     "exception": false,
     "start_time": "2023-07-27T12:35:15.857457",
     "status": "completed"
    },
    "tags": []
   },
   "outputs": [],
   "source": [
    "submission[TARGET_NAME] = test_pred.data[:, 0]\n",
    "submission.to_csv('lightautoml_tabularautoml.csv', index = False)"
   ]
  },
  {
   "cell_type": "markdown",
   "id": "5d11c6b2",
   "metadata": {
    "papermill": {
     "duration": 0.053864,
     "end_time": "2023-07-27T12:35:16.055164",
     "exception": false,
     "start_time": "2023-07-27T12:35:16.001300",
     "status": "completed"
    },
    "tags": []
   },
   "source": [
    "# Additional materials"
   ]
  },
  {
   "cell_type": "markdown",
   "id": "6f4a7c59",
   "metadata": {
    "papermill": {
     "duration": 0.05454,
     "end_time": "2023-07-27T12:35:16.164842",
     "exception": false,
     "start_time": "2023-07-27T12:35:16.110302",
     "status": "completed"
    },
    "tags": []
   },
   "source": [
    "- [Official LightAutoML github repo](https://github.com/AILab-MLTools/LightAutoML)\n",
    "- [LightAutoML documentation](https://lightautoml.readthedocs.io/en/latest)\n",
    "- [LightAutoML tutorials](https://github.com/AILab-MLTools/LightAutoML/tree/master/examples/tutorials)\n",
    "- LightAutoML course:\n",
    "    - [Part 1 - general overview](https://ods.ai/tracks/automl-course-part1) \n",
    "    - [Part 2 - LightAutoML specific applications](https://ods.ai/tracks/automl-course-part2)\n",
    "    - [Part 3 - LightAutoML customization](https://ods.ai/tracks/automl-course-part3)\n",
    "- [OpenDataScience AutoML benchmark leaderboard](https://ods.ai/competitions/automl-benchmark/leaderboard)"
   ]
  },
  {
   "cell_type": "markdown",
   "id": "f2de009b",
   "metadata": {
    "papermill": {
     "duration": 0.052884,
     "end_time": "2023-07-27T12:35:16.270816",
     "exception": false,
     "start_time": "2023-07-27T12:35:16.217932",
     "status": "completed"
    },
    "tags": []
   },
   "source": [
    "### If you still like the notebook, do not forget to put upvote for the notebook and the ⭐️ for github repo if you like it using the button below - one click for you, great pleasure for us ☺️\n",
    "\n",
    "### If you miss the [simple baseline notebook](https://www.kaggle.com/code/alexryzhkov/clone-my-notebook) for this competition, please take a look and upvote it as well. "
   ]
  },
  {
   "cell_type": "code",
   "execution_count": null,
   "id": "7722288b",
   "metadata": {
    "_kg_hide-input": true,
    "execution": {
     "iopub.execute_input": "2023-07-27T12:35:16.382840Z",
     "iopub.status.busy": "2023-07-27T12:35:16.382104Z",
     "iopub.status.idle": "2023-07-27T12:35:16.389510Z",
     "shell.execute_reply": "2023-07-27T12:35:16.388978Z"
    },
    "papermill": {
     "duration": 0.063624,
     "end_time": "2023-07-27T12:35:16.389695",
     "exception": false,
     "start_time": "2023-07-27T12:35:16.326071",
     "status": "completed"
    },
    "tags": []
   },
   "outputs": [
    {
     "name": "stderr",
     "output_type": "stream",
     "text": [
      "/opt/conda/lib/python3.7/site-packages/IPython/core/display.py:724: UserWarning: Consider using IPython.display.IFrame instead\n",
      "  warnings.warn(\"Consider using IPython.display.IFrame instead\")\n"
     ]
    },
    {
     "data": {
      "text/html": [
       "<iframe src=\"https://ghbtns.com/github-btn.html?user=sb-ai-lab&repo=LightAutoML&type=star&count=true&size=large\" frameborder=\"0\" scrolling=\"0\" width=\"170\" height=\"30\" title=\"LightAutoML GitHub\"></iframe>"
      ],
      "text/plain": [
       "<IPython.core.display.HTML object>"
      ]
     },
     "execution_count": 25,
     "metadata": {},
     "output_type": "execute_result"
    }
   ],
   "source": [
    "s = '<iframe src=\"https://ghbtns.com/github-btn.html?user=sb-ai-lab&repo=LightAutoML&type=star&count=true&size=large\" frameborder=\"0\" scrolling=\"0\" width=\"170\" height=\"30\" title=\"LightAutoML GitHub\"></iframe>'\n",
    "HTML(s)"
   ]
  }
 ],
 "metadata": {
  "kernelspec": {
   "display_name": "Python 3",
   "language": "python",
   "name": "python3"
  },
  "language_info": {
   "codemirror_mode": {
    "name": "ipython",
    "version": 3
   },
   "file_extension": ".py",
   "mimetype": "text/x-python",
   "name": "python",
   "nbconvert_exporter": "python",
   "pygments_lexer": "ipython3",
   "version": "3.10.12"
  },
  "papermill": {
   "default_parameters": {},
   "duration": 405.011204,
   "end_time": "2023-07-27T12:35:19.579461",
   "environment_variables": {},
   "exception": null,
   "input_path": "__notebook__.ipynb",
   "output_path": "__notebook__.ipynb",
   "parameters": {},
   "start_time": "2023-07-27T12:28:34.568257",
   "version": "2.3.3"
  }
 },
 "nbformat": 4,
 "nbformat_minor": 5
}
