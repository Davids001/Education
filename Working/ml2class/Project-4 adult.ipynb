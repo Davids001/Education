{
 "cells": [
  {
   "cell_type": "markdown",
   "metadata": {},
   "source": [
    "<img src=bank.jpg width=1600px height=600px> "
   ]
  },
  {
   "cell_type": "markdown",
   "metadata": {},
   "source": [
    "# <center> ПРЕДСКАЗАНИЯ ОТТОКА КЛИЕНТОВ БАНКА"
   ]
  },
  {
   "cell_type": "markdown",
   "metadata": {},
   "source": [
    "* *RowNumber* — номер строки таблицы;\n",
    "* *CustomerId* — идентификатор клиента;\n",
    "* *Surname* — фамилия клиента;\n",
    "* *CreditScore* — кредитный рейтинг клиента (чем он выше, тем больше клиент брал кредитов и возвращал их);\n",
    "* *Geography* — страна проживания клиента (банк межнациональный);\n",
    "* *Gender* — пол клиента;\n",
    "* *Age* — возраст клиента;\n",
    "* *Tenure* — сколько лет клиент пользуется банком;\n",
    "* *Balance* — сколько у клиента денег на счетах в банке;\n",
    "* *NumOfProduct* — число услуг банка, которыми воспользовался клиент;\n",
    "* *HasCrCard* — есть ли у клиента кредитная карта (1 — да, 0 — нет);\n",
    "* *IsActiveMember* — есть ли у клиента статус «активный клиент» (1 — да, 0 — нет);\n",
    "* *EstimatedSalary* — предполагаемая заработная плата клиента;\n",
    "* *Exited* — статус ушедшего (1 — ушедший клиент, 0 — лояльный клиент)."
   ]
  },
  {
   "cell_type": "code",
   "execution_count": null,
   "metadata": {},
   "outputs": [],
   "source": []
  }
 ],
 "metadata": {
  "kernelspec": {
   "display_name": "Python 3",
   "language": "python",
   "name": "python3"
  },
  "language_info": {
   "codemirror_mode": {
    "name": "ipython",
    "version": 3
   },
   "file_extension": ".py",
   "mimetype": "text/x-python",
   "name": "python",
   "nbconvert_exporter": "python",
   "pygments_lexer": "ipython3",
   "version": "3.10.12"
  }
 },
 "nbformat": 4,
 "nbformat_minor": 2
}
